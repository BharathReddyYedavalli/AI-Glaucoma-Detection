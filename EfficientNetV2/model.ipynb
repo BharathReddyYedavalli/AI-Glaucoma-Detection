{
  "cells": [
    {
      "cell_type": "code",
      "execution_count": 1,
      "id": "55bacac7",
      "metadata": {
        "colab": {
          "base_uri": "https://localhost:8080/"
        },
        "id": "55bacac7",
        "outputId": "d83f9915-2cd8-438d-fb2e-2044b45d55ed"
      },
      "outputs": [
        {
          "output_type": "stream",
          "name": "stdout",
          "text": [
            "Using device: cuda\n"
          ]
        }
      ],
      "source": [
        "# Core Libraries\n",
        "import os\n",
        "import pandas as pd\n",
        "import numpy as np\n",
        "from PIL import Image\n",
        "import matplotlib.pyplot as plt\n",
        "from tqdm import tqdm\n",
        "\n",
        "# PyTorch Libraries\n",
        "import torch\n",
        "import torch.nn as nn\n",
        "import torch.optim as optim\n",
        "from torch.utils.data import Dataset, DataLoader\n",
        "from torchvision import transforms, models\n",
        "\n",
        "# Sklearn\n",
        "from sklearn.model_selection import train_test_split\n",
        "from sklearn.metrics import accuracy_score, recall_score, f1_score, confusion_matrix, ConfusionMatrixDisplay\n",
        "from sklearn.metrics import precision_score, classification_report\n",
        "\n",
        "# Misc\n",
        "import kagglehub\n",
        "\n",
        "# Device\n",
        "device = torch.device(\"cuda\" if torch.cuda.is_available() else \"cpu\")\n",
        "print(\"Using device:\", device)"
      ]
    },
    {
      "cell_type": "code",
      "execution_count": 2,
      "id": "ef773d58",
      "metadata": {
        "colab": {
          "base_uri": "https://localhost:8080/"
        },
        "id": "ef773d58",
        "outputId": "ed6d4593-f1c8-453d-ac1f-7702a3bdc6f7"
      },
      "outputs": [
        {
          "output_type": "stream",
          "name": "stdout",
          "text": [
            "Downloading from https://www.kaggle.com/api/v1/datasets/download/bharathry/glaucoma-dataset-for-ai-diagnosis-v3?dataset_version_number=1...\n"
          ]
        },
        {
          "output_type": "stream",
          "name": "stderr",
          "text": [
            "100%|██████████| 2.84G/2.84G [00:34<00:00, 87.9MB/s]"
          ]
        },
        {
          "output_type": "stream",
          "name": "stdout",
          "text": [
            "Extracting files...\n"
          ]
        },
        {
          "output_type": "stream",
          "name": "stderr",
          "text": [
            "\n"
          ]
        },
        {
          "output_type": "stream",
          "name": "stdout",
          "text": [
            "Downloaded at: /root/.cache/kagglehub/datasets/bharathry/glaucoma-dataset-for-ai-diagnosis-v3/versions/1\n",
            "Root directory contents: ['full_fundus_labels_binary.csv', 'full-fundus']\n",
            "CSV files found: ['full_fundus_labels_binary.csv']\n",
            "Folders found: ['full-fundus']\n",
            "\n",
            "Loaded CSV: full_fundus_labels_binary.csv with 12398 rows\n",
            "CSV columns: ['names', 'fundus', 'glaucoma_binary']\n",
            "First few rows:\n",
            "                     names                                    fundus  \\\n",
            "0  OIA-ODIR-TEST-OFFLINE-1  /full-fundus/OIA-ODIR-TEST-OFFLINE-1.png   \n",
            "1  OIA-ODIR-TEST-OFFLINE-2  /full-fundus/OIA-ODIR-TEST-OFFLINE-2.png   \n",
            "2  OIA-ODIR-TEST-OFFLINE-4  /full-fundus/OIA-ODIR-TEST-OFFLINE-4.png   \n",
            "3  OIA-ODIR-TEST-OFFLINE-5  /full-fundus/OIA-ODIR-TEST-OFFLINE-5.png   \n",
            "4  OIA-ODIR-TEST-OFFLINE-6  /full-fundus/OIA-ODIR-TEST-OFFLINE-6.png   \n",
            "\n",
            "   glaucoma_binary  \n",
            "0                0  \n",
            "1                0  \n",
            "2                0  \n",
            "3                0  \n",
            "4                0  \n",
            "\n",
            "Using 'glaucoma_binary' as label column\n",
            "Unique labels in glaucoma_binary: [0 1]\n",
            "After cleaning - unique labels: [0 1]\n",
            "After filtering: 12398 rows\n",
            "\n",
            "Found images folder: full-fundus with 12449 images\n",
            "Using 'names' as image filename column\n",
            "\n",
            "DATASET SUMMARY:\n",
            "Total labeled images found: 12398\n",
            "Missing files: 0\n",
            "Normal (label 0): 7840 images\n",
            "Glaucoma (label 1): 4558 images\n",
            "\n",
            "SPLIT SUMMARY (80% Train / 10% Val / 10% Test):\n",
            "Train samples: 9919 (80.0%)\n",
            "Val samples:   1239 (10.0%)\n",
            "Test samples:  1240 (10.0%)\n",
            "Total:         12398\n",
            "\n",
            "CLASS DISTRIBUTION BY SPLIT:\n",
            "Train: Normal: 6272 (63.2%)  Glaucoma: 3647 (36.8%)  \n",
            "  Val: Normal: 784 (63.3%)  Glaucoma: 455 (36.7%)  \n",
            " Test: Normal: 784 (63.2%)  Glaucoma: 456 (36.8%)  \n",
            "\n",
            "SAVED SPLITS:\n",
            "train_split.csv: 9919 images\n",
            "val_split.csv: 1239 images\n",
            "test_split.csv: 1240 images\n"
          ]
        }
      ],
      "source": [
        "# Download the V3 dataset\n",
        "data_dir = kagglehub.dataset_download(\"bharathry/glaucoma-dataset-for-ai-diagnosis-v3\")\n",
        "print(\"Downloaded at:\", data_dir)\n",
        "\n",
        "# Check the structure of the downloaded dataset\n",
        "print(\"Root directory contents:\", os.listdir(data_dir))\n",
        "\n",
        "# Look for CSV file and images folder\n",
        "csv_files = [f for f in os.listdir(data_dir) if f.endswith('.csv')]\n",
        "image_folders = [f for f in os.listdir(data_dir) if os.path.isdir(os.path.join(data_dir, f))]\n",
        "\n",
        "print(f\"CSV files found: {csv_files}\")\n",
        "print(f\"Folders found: {image_folders}\")\n",
        "\n",
        "# Load the CSV file (assuming it contains labels)\n",
        "if csv_files:\n",
        "    csv_path = os.path.join(data_dir, csv_files[0])\n",
        "    df = pd.read_csv(csv_path)\n",
        "    print(f\"\\nLoaded CSV: {csv_files[0]} with {len(df)} rows\")\n",
        "    print(f\"CSV columns: {list(df.columns)}\")\n",
        "    print(f\"First few rows:\")\n",
        "    print(df.head())\n",
        "\n",
        "    # Clean column names and labels\n",
        "    df.columns = df.columns.str.strip()\n",
        "\n",
        "    # Find the label column - specifically look for glaucoma_binary\n",
        "    label_column = None\n",
        "    if 'glaucoma_binary' in df.columns:\n",
        "        label_column = 'glaucoma_binary'\n",
        "        print(f\"\\nUsing '{label_column}' as label column\")\n",
        "        print(f\"Unique labels in {label_column}: {df[label_column].unique()}\")\n",
        "\n",
        "        # Clean the label column and map to 0/1\n",
        "        df[label_column] = pd.to_numeric(df[label_column], errors='coerce')  # Convert to numeric, NaN for invalid\n",
        "        df = df.dropna(subset=[label_column])  # Remove rows with NaN labels\n",
        "        df['label'] = df[label_column].astype(int)  # Convert to integer (0 or 1)\n",
        "\n",
        "        print(f\"After cleaning - unique labels: {df['label'].unique()}\")\n",
        "        print(f\"After filtering: {len(df)} rows\")\n",
        "    else:\n",
        "        # Fallback: look for other potential label columns\n",
        "        for col in df.columns:\n",
        "            if any(val in str(df[col].unique()) for val in ['GON+', 'GON-', 'glaucoma', 'normal']):\n",
        "                label_column = col\n",
        "                break\n",
        "\n",
        "        if label_column:\n",
        "            print(f\"\\nUsing '{label_column}' as label column\")\n",
        "            df[label_column] = df[label_column].str.strip().str.upper()\n",
        "            print(f\"Unique labels: {df[label_column].unique()}\")\n",
        "\n",
        "            # Map labels to 0/1\n",
        "            if 'GON+' in df[label_column].unique():\n",
        "                label_map = {\"GON+\": 1, \"GON-\": 0}\n",
        "            else:\n",
        "                # Handle other possible label formats\n",
        "                unique_labels = df[label_column].unique()\n",
        "                label_map = {unique_labels[0]: 0, unique_labels[1]: 1}\n",
        "\n",
        "            df = df[df[label_column].isin(label_map.keys())]\n",
        "            df['label'] = df[label_column].map(label_map)\n",
        "            print(f\"Label mapping: {label_map}\")\n",
        "            print(f\"After filtering: {len(df)} rows\")\n",
        "        else:\n",
        "            print(\"Warning: Could not identify label column automatically\")\n",
        "            print(f\"Available columns: {list(df.columns)}\")\n",
        "            # Exit early if no label column found\n",
        "            df = pd.DataFrame()\n",
        "\n",
        "# Find images folder\n",
        "images_folder = None\n",
        "for folder in image_folders:\n",
        "    folder_path = os.path.join(data_dir, folder)\n",
        "    files_in_folder = os.listdir(folder_path)\n",
        "    image_files = [f for f in files_in_folder if f.lower().endswith(('.jpg', '.jpeg', '.png'))]\n",
        "    if len(image_files) > 1000:  # Assume this is the main images folder\n",
        "        images_folder = folder_path\n",
        "        print(f\"\\nFound images folder: {folder} with {len(image_files)} images\")\n",
        "        break\n",
        "\n",
        "if images_folder is None:\n",
        "    print(\"Warning: Could not find images folder, checking root directory...\")\n",
        "    root_image_files = [f for f in os.listdir(data_dir) if f.lower().endswith(('.jpg', '.jpeg', '.png'))]\n",
        "    if root_image_files:\n",
        "        images_folder = data_dir\n",
        "        print(f\"Found {len(root_image_files)} images in root directory\")\n",
        "\n",
        "# Create image-label pairs\n",
        "image_label_list = []\n",
        "missing_files = []\n",
        "\n",
        "if not df.empty and images_folder:\n",
        "    # Get image name column (usually first column or contains 'image', 'file', 'name')\n",
        "    image_column = df.columns[0]  # Default to first column\n",
        "    for col in df.columns:\n",
        "        if any(keyword in col.lower() for keyword in ['image', 'file', 'name']):\n",
        "            image_column = col\n",
        "            break\n",
        "\n",
        "    print(f\"Using '{image_column}' as image filename column\")\n",
        "\n",
        "    for idx, row in df.iterrows():\n",
        "        img_filename = str(row[image_column]).strip()\n",
        "        label = row['label']\n",
        "\n",
        "        # Try different possible image paths\n",
        "        possible_paths = [\n",
        "            os.path.join(images_folder, img_filename),\n",
        "            os.path.join(images_folder, img_filename + '.jpg'),\n",
        "            os.path.join(images_folder, img_filename + '.png'),\n",
        "            os.path.join(images_folder, img_filename + '.jpeg')\n",
        "        ]\n",
        "\n",
        "        img_path = None\n",
        "        for path in possible_paths:\n",
        "            if os.path.exists(path):\n",
        "                img_path = path\n",
        "                break\n",
        "\n",
        "        if img_path and not pd.isna(label):  # Only add if both image and label are valid\n",
        "            image_label_list.append((img_path, int(label)))\n",
        "        else:\n",
        "            if not img_path:\n",
        "                missing_files.append(img_filename)\n",
        "\n",
        "print(f\"\\nDATASET SUMMARY:\")\n",
        "print(f\"Total labeled images found: {len(image_label_list)}\")\n",
        "print(f\"Missing files: {len(missing_files)}\")\n",
        "if len(missing_files) > 0 and len(missing_files) <= 10:\n",
        "    print(f\"Missing files: {missing_files}\")\n",
        "elif len(missing_files) > 10:\n",
        "    print(f\"First 10 missing files: {missing_files[:10]}\")\n",
        "\n",
        "# Count by class\n",
        "if len(image_label_list) > 0:\n",
        "    labels = [label for _, label in image_label_list]\n",
        "    unique_labels, counts = np.unique(labels, return_counts=True)\n",
        "    for label, count in zip(unique_labels, counts):\n",
        "        class_name = \"Normal\" if label == 0 else \"Glaucoma\"\n",
        "        print(f\"{class_name} (label {label}): {count} images\")\n",
        "else:\n",
        "    print(\"Error: No valid image-label pairs found!\")\n",
        "\n",
        "# Stratified splits: 80% train, 10% val, 10% test (standard ML proportions)\n",
        "if len(image_label_list) > 0:\n",
        "    # First split: separate test set (10% of total)\n",
        "    train_val_idx, test_idx = train_test_split(\n",
        "        range(len(image_label_list)),\n",
        "        test_size=0.1,  # 10% for test\n",
        "        stratify=[label for _, label in image_label_list],\n",
        "        random_state=42\n",
        "    )\n",
        "\n",
        "    # Second split: separate train and val from remaining data (80% train, 10% val)\n",
        "    # From the remaining 90%, we want 80/90 ≈ 0.889 for train and 10/90 ≈ 0.111 for val\n",
        "    train_idx, val_idx = train_test_split(\n",
        "        train_val_idx,\n",
        "        test_size=0.111,  # This gives us ~10% of total for validation\n",
        "        stratify=[image_label_list[i][1] for i in train_val_idx],\n",
        "        random_state=42\n",
        "    )\n",
        "\n",
        "    train_split = [image_label_list[i] for i in train_idx]\n",
        "    val_split = [image_label_list[i] for i in val_idx]\n",
        "    test_split = [image_label_list[i] for i in test_idx]\n",
        "\n",
        "    print(f\"\\nSPLIT SUMMARY (80% Train / 10% Val / 10% Test):\")\n",
        "    print(f\"Train samples: {len(train_split)} ({len(train_split)/len(image_label_list)*100:.1f}%)\")\n",
        "    print(f\"Val samples:   {len(val_split)} ({len(val_split)/len(image_label_list)*100:.1f}%)\")\n",
        "    print(f\"Test samples:  {len(test_split)} ({len(test_split)/len(image_label_list)*100:.1f}%)\")\n",
        "    print(f\"Total:         {len(train_split) + len(val_split) + len(test_split)}\")\n",
        "\n",
        "    # Check class distribution in each split\n",
        "    train_labels = [label for _, label in train_split]\n",
        "    val_labels = [label for _, label in val_split]\n",
        "    test_labels = [label for _, label in test_split]\n",
        "\n",
        "    print(f\"\\nCLASS DISTRIBUTION BY SPLIT:\")\n",
        "    for split_name, split_labels in [(\"Train\", train_labels), (\"Val\", val_labels), (\"Test\", test_labels)]:\n",
        "        unique, counts = np.unique(split_labels, return_counts=True)\n",
        "        print(f\"{split_name:>5}: \", end=\"\")\n",
        "        for label, count in zip(unique, counts):\n",
        "            class_name = \"Normal\" if label == 0 else \"Glaucoma\"\n",
        "            percentage = count / len(split_labels) * 100\n",
        "            print(f\"{class_name}: {count} ({percentage:.1f}%)  \", end=\"\")\n",
        "        print()\n",
        "\n",
        "    # Save split information to CSV files\n",
        "    train_df = pd.DataFrame(train_split, columns=['image_path', 'label'])\n",
        "    val_df = pd.DataFrame(val_split, columns=['image_path', 'label'])\n",
        "    test_df = pd.DataFrame(test_split, columns=['image_path', 'label'])\n",
        "\n",
        "    # Save to CSV files\n",
        "    train_df.to_csv('train_split.csv', index=False)\n",
        "    val_df.to_csv('val_split.csv', index=False)\n",
        "    test_df.to_csv('test_split.csv', index=False)\n",
        "\n",
        "    print(f\"\\nSAVED SPLITS:\")\n",
        "    print(f\"train_split.csv: {len(train_df)} images\")\n",
        "    print(f\"val_split.csv: {len(val_df)} images\")\n",
        "    print(f\"test_split.csv: {len(test_df)} images\")\n",
        "else:\n",
        "    print(\"Error: No valid image-label pairs found. Please check the dataset structure.\")"
      ]
    },
    {
      "cell_type": "code",
      "execution_count": 3,
      "id": "56ddaa5f",
      "metadata": {
        "colab": {
          "base_uri": "https://localhost:8080/"
        },
        "id": "56ddaa5f",
        "outputId": "29417ebd-5426-432a-874c-0db8864fe997"
      },
      "outputs": [
        {
          "output_type": "stream",
          "name": "stdout",
          "text": [
            "Data loaders created:\n",
            "Train batches: 620\n",
            "Val batches: 78\n",
            "Test batches: 78\n"
          ]
        }
      ],
      "source": [
        "# Custom dataset class for EfficientNetV2\n",
        "class GlaucomaDataset(Dataset):\n",
        "    def __init__(self, image_list, transform=None):\n",
        "        self.image_list = image_list\n",
        "        self.transform = transform\n",
        "\n",
        "    def __len__(self):\n",
        "        return len(self.image_list)\n",
        "\n",
        "    def __getitem__(self, idx):\n",
        "        img_path, label = self.image_list[idx]\n",
        "        image = Image.open(img_path).convert(\"RGB\")\n",
        "        if self.transform:\n",
        "            image = self.transform(image)\n",
        "        return image, label\n",
        "\n",
        "# EfficientNetV2 optimized parameters\n",
        "IMG_SIZE = 288  # EfficientNetV2 performs better with larger input sizes\n",
        "BATCH_SIZE = 16  # Smaller batch size for larger images and more complex model\n",
        "\n",
        "# Enhanced data augmentation for better performance\n",
        "train_transform = transforms.Compose([\n",
        "    transforms.RandomResizedCrop(IMG_SIZE, scale=(0.8, 1.0)),\n",
        "    transforms.RandomHorizontalFlip(p=0.5),\n",
        "    transforms.RandomVerticalFlip(p=0.1),\n",
        "    transforms.RandomRotation(degrees=15),\n",
        "    transforms.ColorJitter(brightness=0.3, contrast=0.3, saturation=0.2, hue=0.1),\n",
        "    transforms.RandomAffine(degrees=0, translate=(0.1, 0.1)),\n",
        "    transforms.ToTensor(),\n",
        "    transforms.Normalize(mean=[0.485, 0.456, 0.406],\n",
        "                         std=[0.229, 0.224, 0.225])\n",
        "])\n",
        "\n",
        "# Validation/Test transform\n",
        "val_transform = transforms.Compose([\n",
        "    transforms.Resize((IMG_SIZE, IMG_SIZE)),\n",
        "    transforms.ToTensor(),\n",
        "    transforms.Normalize(mean=[0.485, 0.456, 0.406],\n",
        "                         std=[0.229, 0.224, 0.225])\n",
        "])\n",
        "\n",
        "# Create datasets and loaders\n",
        "train_dataset = GlaucomaDataset(train_split, transform=train_transform)\n",
        "val_dataset = GlaucomaDataset(val_split, transform=val_transform)\n",
        "test_dataset = GlaucomaDataset(test_split, transform=val_transform)\n",
        "\n",
        "train_loader = DataLoader(train_dataset, batch_size=BATCH_SIZE, shuffle=True, num_workers=2)\n",
        "val_loader = DataLoader(val_dataset, batch_size=BATCH_SIZE, shuffle=False, num_workers=2)\n",
        "test_loader = DataLoader(test_dataset, batch_size=BATCH_SIZE, shuffle=False, num_workers=2)\n",
        "\n",
        "print(f\"Data loaders created:\")\n",
        "print(f\"Train batches: {len(train_loader)}\")\n",
        "print(f\"Val batches: {len(val_loader)}\")\n",
        "print(f\"Test batches: {len(test_loader)}\")"
      ]
    },
    {
      "cell_type": "code",
      "execution_count": 4,
      "id": "512748ab",
      "metadata": {
        "colab": {
          "base_uri": "https://localhost:8080/"
        },
        "id": "512748ab",
        "outputId": "19dc2164-0a61-45fe-f08a-0282ed8c00e1"
      },
      "outputs": [
        {
          "output_type": "stream",
          "name": "stderr",
          "text": [
            "Downloading: \"https://download.pytorch.org/models/efficientnet_v2_s-dd5fe13b.pth\" to /root/.cache/torch/hub/checkpoints/efficientnet_v2_s-dd5fe13b.pth\n",
            "100%|██████████| 82.7M/82.7M [00:00<00:00, 187MB/s]\n"
          ]
        },
        {
          "output_type": "stream",
          "name": "stdout",
          "text": [
            "Total parameters: 20,834,386\n",
            "Trainable parameters: 20,834,386\n",
            "Model loaded on: cuda\n"
          ]
        }
      ],
      "source": [
        "# Load EfficientNetV2 model with best configuration for performance\n",
        "from torchvision.models import efficientnet_v2_s, EfficientNet_V2_S_Weights\n",
        "\n",
        "# Load pre-trained EfficientNetV2-S (Small variant for better speed/accuracy balance)\n",
        "weights = EfficientNet_V2_S_Weights.DEFAULT\n",
        "model = efficientnet_v2_s(weights=weights)\n",
        "\n",
        "# Modify the classifier for binary classification\n",
        "num_ftrs = model.classifier[1].in_features\n",
        "model.classifier = nn.Sequential(\n",
        "    nn.Dropout(p=0.5, inplace=True),\n",
        "    nn.Linear(num_ftrs, 512),\n",
        "    nn.ReLU(inplace=True),\n",
        "    nn.Dropout(p=0.3),\n",
        "    nn.Linear(512, 2)\n",
        ")\n",
        "\n",
        "# Move model to device\n",
        "model = model.to(device)\n",
        "\n",
        "# Print model info\n",
        "total_params = sum(p.numel() for p in model.parameters())\n",
        "trainable_params = sum(p.numel() for p in model.parameters() if p.requires_grad)\n",
        "print(f\"Total parameters: {total_params:,}\")\n",
        "print(f\"Trainable parameters: {trainable_params:,}\")\n",
        "print(f\"Model loaded on: {device}\")"
      ]
    },
    {
      "cell_type": "code",
      "execution_count": 5,
      "id": "667b9534",
      "metadata": {
        "colab": {
          "base_uri": "https://localhost:8080/"
        },
        "id": "667b9534",
        "outputId": "71b9736c-f7c1-4470-8126-f788b656f1c2"
      },
      "outputs": [
        {
          "output_type": "stream",
          "name": "stdout",
          "text": [
            "FAST TRAINING MODE - Optimized for Speed!\n",
            "Training for maximum 20 epochs with early stopping patience of 5\n",
            "Using higher learning rate (1e-3) for faster convergence\n",
            "============================================================\n",
            "\n",
            "Epoch 1/20 - Training...\n"
          ]
        },
        {
          "output_type": "stream",
          "name": "stderr",
          "text": [
            "Training Epoch 1:   0%|          | 1/620 [00:02<28:53,  2.80s/it]"
          ]
        },
        {
          "output_type": "stream",
          "name": "stdout",
          "text": [
            "  Batch 0/620 | Loss: 0.7006 | Acc: 62.50%\n"
          ]
        },
        {
          "output_type": "stream",
          "name": "stderr",
          "text": [
            "Training Epoch 1:  16%|█▋        | 101/620 [00:35<03:06,  2.79it/s]"
          ]
        },
        {
          "output_type": "stream",
          "name": "stdout",
          "text": [
            "  Batch 100/620 | Loss: 0.6773 | Acc: 67.20%\n"
          ]
        },
        {
          "output_type": "stream",
          "name": "stderr",
          "text": [
            "Training Epoch 1:  32%|███▏      | 201/620 [01:07<02:05,  3.34it/s]"
          ]
        },
        {
          "output_type": "stream",
          "name": "stdout",
          "text": [
            "  Batch 200/620 | Loss: 0.4113 | Acc: 69.40%\n"
          ]
        },
        {
          "output_type": "stream",
          "name": "stderr",
          "text": [
            "Training Epoch 1:  49%|████▊     | 301/620 [01:39<02:02,  2.61it/s]"
          ]
        },
        {
          "output_type": "stream",
          "name": "stdout",
          "text": [
            "  Batch 300/620 | Loss: 0.6291 | Acc: 69.64%\n"
          ]
        },
        {
          "output_type": "stream",
          "name": "stderr",
          "text": [
            "Training Epoch 1:  65%|██████▍   | 401/620 [02:12<01:07,  3.25it/s]"
          ]
        },
        {
          "output_type": "stream",
          "name": "stdout",
          "text": [
            "  Batch 400/620 | Loss: 0.5100 | Acc: 69.90%\n"
          ]
        },
        {
          "output_type": "stream",
          "name": "stderr",
          "text": [
            "Training Epoch 1:  81%|████████  | 501/620 [02:44<00:46,  2.58it/s]"
          ]
        },
        {
          "output_type": "stream",
          "name": "stdout",
          "text": [
            "  Batch 500/620 | Loss: 0.5569 | Acc: 71.02%\n"
          ]
        },
        {
          "output_type": "stream",
          "name": "stderr",
          "text": [
            "Training Epoch 1:  97%|█████████▋| 601/620 [03:16<00:05,  3.28it/s]"
          ]
        },
        {
          "output_type": "stream",
          "name": "stdout",
          "text": [
            "  Batch 600/620 | Loss: 0.3272 | Acc: 71.37%\n"
          ]
        },
        {
          "output_type": "stream",
          "name": "stderr",
          "text": [
            "Training Epoch 1: 100%|██████████| 620/620 [03:23<00:00,  3.05it/s]\n"
          ]
        },
        {
          "output_type": "stream",
          "name": "stdout",
          "text": [
            "Epoch 1/20 - Validating...\n"
          ]
        },
        {
          "output_type": "stream",
          "name": "stderr",
          "text": [
            "Validation Epoch 1: 100%|██████████| 78/78 [00:12<00:00,  6.42it/s]\n"
          ]
        },
        {
          "output_type": "stream",
          "name": "stdout",
          "text": [
            "\n",
            "EPOCH 1 COMPLETED:\n",
            "   Train Loss: 0.5802 | Train Acc: 71.55%\n",
            "   Val Loss:   0.4861 | Val Acc:   78.69%\n",
            "   Epoch Time: 215.4s | Total Time: 215.4s\n",
            "   NEW BEST MODEL! Val Loss improved to 0.4861\n",
            "\n",
            "Epoch 2/20 - Training...\n"
          ]
        },
        {
          "output_type": "stream",
          "name": "stderr",
          "text": [
            "Training Epoch 2:   0%|          | 1/620 [00:00<09:19,  1.11it/s]"
          ]
        },
        {
          "output_type": "stream",
          "name": "stdout",
          "text": [
            "  Batch 0/620 | Loss: 0.5157 | Acc: 75.00%\n"
          ]
        },
        {
          "output_type": "stream",
          "name": "stderr",
          "text": [
            "Training Epoch 2:  16%|█▋        | 101/620 [00:33<02:36,  3.31it/s]"
          ]
        },
        {
          "output_type": "stream",
          "name": "stdout",
          "text": [
            "  Batch 100/620 | Loss: 0.5215 | Acc: 77.35%\n"
          ]
        },
        {
          "output_type": "stream",
          "name": "stderr",
          "text": [
            "Training Epoch 2:  32%|███▏      | 201/620 [01:06<02:12,  3.17it/s]"
          ]
        },
        {
          "output_type": "stream",
          "name": "stdout",
          "text": [
            "  Batch 200/620 | Loss: 0.4246 | Acc: 77.46%\n"
          ]
        },
        {
          "output_type": "stream",
          "name": "stderr",
          "text": [
            "Training Epoch 2:  49%|████▊     | 301/620 [01:38<01:35,  3.35it/s]"
          ]
        },
        {
          "output_type": "stream",
          "name": "stdout",
          "text": [
            "  Batch 300/620 | Loss: 0.9021 | Acc: 77.74%\n"
          ]
        },
        {
          "output_type": "stream",
          "name": "stderr",
          "text": [
            "Training Epoch 2:  65%|██████▍   | 401/620 [02:10<01:08,  3.20it/s]"
          ]
        },
        {
          "output_type": "stream",
          "name": "stdout",
          "text": [
            "  Batch 400/620 | Loss: 0.4204 | Acc: 77.68%\n"
          ]
        },
        {
          "output_type": "stream",
          "name": "stderr",
          "text": [
            "Training Epoch 2:  81%|████████  | 501/620 [02:43<00:36,  3.30it/s]"
          ]
        },
        {
          "output_type": "stream",
          "name": "stdout",
          "text": [
            "  Batch 500/620 | Loss: 0.5604 | Acc: 77.57%\n"
          ]
        },
        {
          "output_type": "stream",
          "name": "stderr",
          "text": [
            "Training Epoch 2:  97%|█████████▋| 601/620 [03:16<00:06,  2.86it/s]"
          ]
        },
        {
          "output_type": "stream",
          "name": "stdout",
          "text": [
            "  Batch 600/620 | Loss: 0.4125 | Acc: 77.97%\n"
          ]
        },
        {
          "output_type": "stream",
          "name": "stderr",
          "text": [
            "Training Epoch 2: 100%|██████████| 620/620 [03:21<00:00,  3.07it/s]\n"
          ]
        },
        {
          "output_type": "stream",
          "name": "stdout",
          "text": [
            "Epoch 2/20 - Validating...\n"
          ]
        },
        {
          "output_type": "stream",
          "name": "stderr",
          "text": [
            "Validation Epoch 2: 100%|██████████| 78/78 [00:12<00:00,  6.41it/s]\n"
          ]
        },
        {
          "output_type": "stream",
          "name": "stdout",
          "text": [
            "\n",
            "EPOCH 2 COMPLETED:\n",
            "   Train Loss: 0.4912 | Train Acc: 78.03%\n",
            "   Val Loss:   0.4399 | Val Acc:   79.66%\n",
            "   Epoch Time: 214.1s | Total Time: 429.5s\n",
            "   NEW BEST MODEL! Val Loss improved to 0.4399\n",
            "\n",
            "Epoch 3/20 - Training...\n"
          ]
        },
        {
          "output_type": "stream",
          "name": "stderr",
          "text": [
            "Training Epoch 3:   0%|          | 1/620 [00:00<08:26,  1.22it/s]"
          ]
        },
        {
          "output_type": "stream",
          "name": "stdout",
          "text": [
            "  Batch 0/620 | Loss: 0.5125 | Acc: 81.25%\n"
          ]
        },
        {
          "output_type": "stream",
          "name": "stderr",
          "text": [
            "Training Epoch 3:  16%|█▋        | 101/620 [00:33<02:35,  3.34it/s]"
          ]
        },
        {
          "output_type": "stream",
          "name": "stdout",
          "text": [
            "  Batch 100/620 | Loss: 0.4348 | Acc: 79.58%\n"
          ]
        },
        {
          "output_type": "stream",
          "name": "stderr",
          "text": [
            "Training Epoch 3:  32%|███▏      | 201/620 [01:06<02:31,  2.77it/s]"
          ]
        },
        {
          "output_type": "stream",
          "name": "stdout",
          "text": [
            "  Batch 200/620 | Loss: 0.9958 | Acc: 78.58%\n"
          ]
        },
        {
          "output_type": "stream",
          "name": "stderr",
          "text": [
            "Training Epoch 3:  49%|████▊     | 301/620 [01:38<01:36,  3.31it/s]"
          ]
        },
        {
          "output_type": "stream",
          "name": "stdout",
          "text": [
            "  Batch 300/620 | Loss: 0.2853 | Acc: 79.36%\n"
          ]
        },
        {
          "output_type": "stream",
          "name": "stderr",
          "text": [
            "Training Epoch 3:  65%|██████▍   | 401/620 [02:11<01:22,  2.66it/s]"
          ]
        },
        {
          "output_type": "stream",
          "name": "stdout",
          "text": [
            "  Batch 400/620 | Loss: 0.4574 | Acc: 79.66%\n"
          ]
        },
        {
          "output_type": "stream",
          "name": "stderr",
          "text": [
            "Training Epoch 3:  81%|████████  | 501/620 [02:43<00:36,  3.23it/s]"
          ]
        },
        {
          "output_type": "stream",
          "name": "stdout",
          "text": [
            "  Batch 500/620 | Loss: 0.3791 | Acc: 79.59%\n"
          ]
        },
        {
          "output_type": "stream",
          "name": "stderr",
          "text": [
            "Training Epoch 3:  97%|█████████▋| 601/620 [03:16<00:07,  2.43it/s]"
          ]
        },
        {
          "output_type": "stream",
          "name": "stdout",
          "text": [
            "  Batch 600/620 | Loss: 0.4656 | Acc: 79.59%\n"
          ]
        },
        {
          "output_type": "stream",
          "name": "stderr",
          "text": [
            "Training Epoch 3: 100%|██████████| 620/620 [03:22<00:00,  3.06it/s]\n"
          ]
        },
        {
          "output_type": "stream",
          "name": "stdout",
          "text": [
            "Epoch 3/20 - Validating...\n"
          ]
        },
        {
          "output_type": "stream",
          "name": "stderr",
          "text": [
            "Validation Epoch 3: 100%|██████████| 78/78 [00:12<00:00,  6.43it/s]\n"
          ]
        },
        {
          "output_type": "stream",
          "name": "stdout",
          "text": [
            "\n",
            "EPOCH 3 COMPLETED:\n",
            "   Train Loss: 0.4626 | Train Acc: 79.72%\n",
            "   Val Loss:   0.4971 | Val Acc:   80.31%\n",
            "   Epoch Time: 214.6s | Total Time: 644.1s\n",
            "   No improvement. Early stop counter: 1/5\n",
            "\n",
            "Epoch 4/20 - Training...\n"
          ]
        },
        {
          "output_type": "stream",
          "name": "stderr",
          "text": [
            "Training Epoch 4:   0%|          | 1/620 [00:00<08:31,  1.21it/s]"
          ]
        },
        {
          "output_type": "stream",
          "name": "stdout",
          "text": [
            "  Batch 0/620 | Loss: 0.2695 | Acc: 87.50%\n"
          ]
        },
        {
          "output_type": "stream",
          "name": "stderr",
          "text": [
            "Training Epoch 4:  16%|█▋        | 101/620 [00:36<02:43,  3.17it/s]"
          ]
        },
        {
          "output_type": "stream",
          "name": "stdout",
          "text": [
            "  Batch 100/620 | Loss: 0.3454 | Acc: 79.83%\n"
          ]
        },
        {
          "output_type": "stream",
          "name": "stderr",
          "text": [
            "Training Epoch 4:  32%|███▏      | 201/620 [01:08<02:07,  3.28it/s]"
          ]
        },
        {
          "output_type": "stream",
          "name": "stdout",
          "text": [
            "  Batch 200/620 | Loss: 0.2974 | Acc: 80.29%\n"
          ]
        },
        {
          "output_type": "stream",
          "name": "stderr",
          "text": [
            "Training Epoch 4:  49%|████▊     | 301/620 [01:40<01:41,  3.14it/s]"
          ]
        },
        {
          "output_type": "stream",
          "name": "stdout",
          "text": [
            "  Batch 300/620 | Loss: 0.5263 | Acc: 80.38%\n"
          ]
        },
        {
          "output_type": "stream",
          "name": "stderr",
          "text": [
            "Training Epoch 4:  65%|██████▍   | 401/620 [02:12<01:09,  3.14it/s]"
          ]
        },
        {
          "output_type": "stream",
          "name": "stdout",
          "text": [
            "  Batch 400/620 | Loss: 0.5817 | Acc: 80.56%\n"
          ]
        },
        {
          "output_type": "stream",
          "name": "stderr",
          "text": [
            "Training Epoch 4:  81%|████████  | 501/620 [02:45<00:36,  3.30it/s]"
          ]
        },
        {
          "output_type": "stream",
          "name": "stdout",
          "text": [
            "  Batch 500/620 | Loss: 0.2513 | Acc: 81.04%\n"
          ]
        },
        {
          "output_type": "stream",
          "name": "stderr",
          "text": [
            "Training Epoch 4:  97%|█████████▋| 601/620 [03:18<00:07,  2.65it/s]"
          ]
        },
        {
          "output_type": "stream",
          "name": "stdout",
          "text": [
            "  Batch 600/620 | Loss: 0.4948 | Acc: 81.14%\n"
          ]
        },
        {
          "output_type": "stream",
          "name": "stderr",
          "text": [
            "Training Epoch 4: 100%|██████████| 620/620 [03:24<00:00,  3.03it/s]\n"
          ]
        },
        {
          "output_type": "stream",
          "name": "stdout",
          "text": [
            "Epoch 4/20 - Validating...\n"
          ]
        },
        {
          "output_type": "stream",
          "name": "stderr",
          "text": [
            "Validation Epoch 4: 100%|██████████| 78/78 [00:12<00:00,  6.34it/s]\n"
          ]
        },
        {
          "output_type": "stream",
          "name": "stdout",
          "text": [
            "\n",
            "EPOCH 4 COMPLETED:\n",
            "   Train Loss: 0.4422 | Train Acc: 81.07%\n",
            "   Val Loss:   0.3917 | Val Acc:   82.65%\n",
            "   Epoch Time: 216.9s | Total Time: 861.0s\n",
            "   NEW BEST MODEL! Val Loss improved to 0.3917\n",
            "\n",
            "Epoch 5/20 - Training...\n"
          ]
        },
        {
          "output_type": "stream",
          "name": "stderr",
          "text": [
            "Training Epoch 5:   0%|          | 1/620 [00:00<08:26,  1.22it/s]"
          ]
        },
        {
          "output_type": "stream",
          "name": "stdout",
          "text": [
            "  Batch 0/620 | Loss: 0.6598 | Acc: 62.50%\n"
          ]
        },
        {
          "output_type": "stream",
          "name": "stderr",
          "text": [
            "Training Epoch 5:  16%|█▋        | 101/620 [00:33<03:29,  2.48it/s]"
          ]
        },
        {
          "output_type": "stream",
          "name": "stdout",
          "text": [
            "  Batch 100/620 | Loss: 0.2666 | Acc: 80.75%\n"
          ]
        },
        {
          "output_type": "stream",
          "name": "stderr",
          "text": [
            "Training Epoch 5:  32%|███▏      | 201/620 [01:06<02:09,  3.24it/s]"
          ]
        },
        {
          "output_type": "stream",
          "name": "stdout",
          "text": [
            "  Batch 200/620 | Loss: 0.4663 | Acc: 81.06%\n"
          ]
        },
        {
          "output_type": "stream",
          "name": "stderr",
          "text": [
            "Training Epoch 5:  49%|████▊     | 301/620 [01:39<01:51,  2.87it/s]"
          ]
        },
        {
          "output_type": "stream",
          "name": "stdout",
          "text": [
            "  Batch 300/620 | Loss: 0.3332 | Acc: 81.81%\n"
          ]
        },
        {
          "output_type": "stream",
          "name": "stderr",
          "text": [
            "Training Epoch 5:  65%|██████▍   | 401/620 [02:11<01:05,  3.34it/s]"
          ]
        },
        {
          "output_type": "stream",
          "name": "stdout",
          "text": [
            "  Batch 400/620 | Loss: 0.4357 | Acc: 81.86%\n"
          ]
        },
        {
          "output_type": "stream",
          "name": "stderr",
          "text": [
            "Training Epoch 5:  81%|████████  | 501/620 [02:44<00:36,  3.22it/s]"
          ]
        },
        {
          "output_type": "stream",
          "name": "stdout",
          "text": [
            "  Batch 500/620 | Loss: 0.4115 | Acc: 81.80%\n"
          ]
        },
        {
          "output_type": "stream",
          "name": "stderr",
          "text": [
            "Training Epoch 5:  97%|█████████▋| 601/620 [03:16<00:05,  3.30it/s]"
          ]
        },
        {
          "output_type": "stream",
          "name": "stdout",
          "text": [
            "  Batch 600/620 | Loss: 0.3764 | Acc: 81.69%\n"
          ]
        },
        {
          "output_type": "stream",
          "name": "stderr",
          "text": [
            "Training Epoch 5: 100%|██████████| 620/620 [03:22<00:00,  3.06it/s]\n"
          ]
        },
        {
          "output_type": "stream",
          "name": "stdout",
          "text": [
            "Epoch 5/20 - Validating...\n"
          ]
        },
        {
          "output_type": "stream",
          "name": "stderr",
          "text": [
            "Validation Epoch 5: 100%|██████████| 78/78 [00:12<00:00,  6.33it/s]\n"
          ]
        },
        {
          "output_type": "stream",
          "name": "stdout",
          "text": [
            "\n",
            "EPOCH 5 COMPLETED:\n",
            "   Train Loss: 0.4246 | Train Acc: 81.80%\n",
            "   Val Loss:   0.4537 | Val Acc:   80.39%\n",
            "   Epoch Time: 215.2s | Total Time: 1076.2s\n",
            "   No improvement. Early stop counter: 1/5\n",
            "\n",
            "Epoch 6/20 - Training...\n"
          ]
        },
        {
          "output_type": "stream",
          "name": "stderr",
          "text": [
            "Training Epoch 6:   0%|          | 1/620 [00:00<08:59,  1.15it/s]"
          ]
        },
        {
          "output_type": "stream",
          "name": "stdout",
          "text": [
            "  Batch 0/620 | Loss: 0.4670 | Acc: 81.25%\n"
          ]
        },
        {
          "output_type": "stream",
          "name": "stderr",
          "text": [
            "Training Epoch 6:  16%|█▋        | 101/620 [00:32<02:43,  3.17it/s]"
          ]
        },
        {
          "output_type": "stream",
          "name": "stdout",
          "text": [
            "  Batch 100/620 | Loss: 0.3776 | Acc: 80.94%\n"
          ]
        },
        {
          "output_type": "stream",
          "name": "stderr",
          "text": [
            "Training Epoch 6:  32%|███▏      | 201/620 [01:06<02:07,  3.28it/s]"
          ]
        },
        {
          "output_type": "stream",
          "name": "stdout",
          "text": [
            "  Batch 200/620 | Loss: 0.2081 | Acc: 81.03%\n"
          ]
        },
        {
          "output_type": "stream",
          "name": "stderr",
          "text": [
            "Training Epoch 6:  49%|████▊     | 301/620 [01:38<01:35,  3.35it/s]"
          ]
        },
        {
          "output_type": "stream",
          "name": "stdout",
          "text": [
            "  Batch 300/620 | Loss: 0.4478 | Acc: 81.27%\n"
          ]
        },
        {
          "output_type": "stream",
          "name": "stderr",
          "text": [
            "Training Epoch 6:  65%|██████▍   | 401/620 [02:10<01:07,  3.24it/s]"
          ]
        },
        {
          "output_type": "stream",
          "name": "stdout",
          "text": [
            "  Batch 400/620 | Loss: 0.3184 | Acc: 81.58%\n"
          ]
        },
        {
          "output_type": "stream",
          "name": "stderr",
          "text": [
            "Training Epoch 6:  81%|████████  | 501/620 [02:42<00:38,  3.09it/s]"
          ]
        },
        {
          "output_type": "stream",
          "name": "stdout",
          "text": [
            "  Batch 500/620 | Loss: 0.3570 | Acc: 81.94%\n"
          ]
        },
        {
          "output_type": "stream",
          "name": "stderr",
          "text": [
            "Training Epoch 6:  97%|█████████▋| 601/620 [03:14<00:05,  3.30it/s]"
          ]
        },
        {
          "output_type": "stream",
          "name": "stdout",
          "text": [
            "  Batch 600/620 | Loss: 0.3800 | Acc: 81.86%\n"
          ]
        },
        {
          "output_type": "stream",
          "name": "stderr",
          "text": [
            "Training Epoch 6: 100%|██████████| 620/620 [03:20<00:00,  3.09it/s]\n"
          ]
        },
        {
          "output_type": "stream",
          "name": "stdout",
          "text": [
            "Epoch 6/20 - Validating...\n"
          ]
        },
        {
          "output_type": "stream",
          "name": "stderr",
          "text": [
            "Validation Epoch 6: 100%|██████████| 78/78 [00:12<00:00,  6.42it/s]\n"
          ]
        },
        {
          "output_type": "stream",
          "name": "stdout",
          "text": [
            "\n",
            "EPOCH 6 COMPLETED:\n",
            "   Train Loss: 0.4272 | Train Acc: 81.78%\n",
            "   Val Loss:   0.3705 | Val Acc:   82.16%\n",
            "   Epoch Time: 212.9s | Total Time: 1289.2s\n",
            "   NEW BEST MODEL! Val Loss improved to 0.3705\n",
            "\n",
            "Epoch 7/20 - Training...\n"
          ]
        },
        {
          "output_type": "stream",
          "name": "stderr",
          "text": [
            "Training Epoch 7:   0%|          | 1/620 [00:00<09:43,  1.06it/s]"
          ]
        },
        {
          "output_type": "stream",
          "name": "stdout",
          "text": [
            "  Batch 0/620 | Loss: 0.5132 | Acc: 75.00%\n"
          ]
        },
        {
          "output_type": "stream",
          "name": "stderr",
          "text": [
            "Training Epoch 7:  16%|█▋        | 101/620 [00:34<02:36,  3.31it/s]"
          ]
        },
        {
          "output_type": "stream",
          "name": "stdout",
          "text": [
            "  Batch 100/620 | Loss: 0.2748 | Acc: 82.74%\n"
          ]
        },
        {
          "output_type": "stream",
          "name": "stderr",
          "text": [
            "Training Epoch 7:  32%|███▏      | 201/620 [01:06<02:46,  2.52it/s]"
          ]
        },
        {
          "output_type": "stream",
          "name": "stdout",
          "text": [
            "  Batch 200/620 | Loss: 0.4370 | Acc: 82.34%\n"
          ]
        },
        {
          "output_type": "stream",
          "name": "stderr",
          "text": [
            "Training Epoch 7:  49%|████▊     | 301/620 [01:39<01:36,  3.30it/s]"
          ]
        },
        {
          "output_type": "stream",
          "name": "stdout",
          "text": [
            "  Batch 300/620 | Loss: 0.4878 | Acc: 82.50%\n"
          ]
        },
        {
          "output_type": "stream",
          "name": "stderr",
          "text": [
            "Training Epoch 7:  65%|██████▍   | 401/620 [02:11<01:17,  2.83it/s]"
          ]
        },
        {
          "output_type": "stream",
          "name": "stdout",
          "text": [
            "  Batch 400/620 | Loss: 0.3893 | Acc: 82.50%\n"
          ]
        },
        {
          "output_type": "stream",
          "name": "stderr",
          "text": [
            "Training Epoch 7:  81%|████████  | 501/620 [02:43<00:35,  3.34it/s]"
          ]
        },
        {
          "output_type": "stream",
          "name": "stdout",
          "text": [
            "  Batch 500/620 | Loss: 0.3837 | Acc: 82.39%\n"
          ]
        },
        {
          "output_type": "stream",
          "name": "stderr",
          "text": [
            "Training Epoch 7:  97%|█████████▋| 601/620 [03:17<00:06,  3.08it/s]"
          ]
        },
        {
          "output_type": "stream",
          "name": "stdout",
          "text": [
            "  Batch 600/620 | Loss: 0.2639 | Acc: 82.56%\n"
          ]
        },
        {
          "output_type": "stream",
          "name": "stderr",
          "text": [
            "Training Epoch 7: 100%|██████████| 620/620 [03:23<00:00,  3.05it/s]\n"
          ]
        },
        {
          "output_type": "stream",
          "name": "stdout",
          "text": [
            "Epoch 7/20 - Validating...\n"
          ]
        },
        {
          "output_type": "stream",
          "name": "stderr",
          "text": [
            "Validation Epoch 7: 100%|██████████| 78/78 [00:12<00:00,  6.43it/s]\n"
          ]
        },
        {
          "output_type": "stream",
          "name": "stdout",
          "text": [
            "\n",
            "EPOCH 7 COMPLETED:\n",
            "   Train Loss: 0.4071 | Train Acc: 82.55%\n",
            "   Val Loss:   0.3794 | Val Acc:   83.62%\n",
            "   Epoch Time: 215.6s | Total Time: 1504.8s\n",
            "   No improvement. Early stop counter: 1/5\n",
            "\n",
            "Epoch 8/20 - Training...\n"
          ]
        },
        {
          "output_type": "stream",
          "name": "stderr",
          "text": [
            "Training Epoch 8:   0%|          | 1/620 [00:00<08:36,  1.20it/s]"
          ]
        },
        {
          "output_type": "stream",
          "name": "stdout",
          "text": [
            "  Batch 0/620 | Loss: 0.3670 | Acc: 81.25%\n"
          ]
        },
        {
          "output_type": "stream",
          "name": "stderr",
          "text": [
            "Training Epoch 8:  16%|█▋        | 101/620 [00:33<02:36,  3.32it/s]"
          ]
        },
        {
          "output_type": "stream",
          "name": "stdout",
          "text": [
            "  Batch 100/620 | Loss: 0.3227 | Acc: 82.67%\n"
          ]
        },
        {
          "output_type": "stream",
          "name": "stderr",
          "text": [
            "Training Epoch 8:  32%|███▏      | 201/620 [01:06<02:06,  3.31it/s]"
          ]
        },
        {
          "output_type": "stream",
          "name": "stdout",
          "text": [
            "  Batch 200/620 | Loss: 0.3930 | Acc: 82.56%\n"
          ]
        },
        {
          "output_type": "stream",
          "name": "stderr",
          "text": [
            "Training Epoch 8:  49%|████▊     | 301/620 [01:38<01:39,  3.21it/s]"
          ]
        },
        {
          "output_type": "stream",
          "name": "stdout",
          "text": [
            "  Batch 300/620 | Loss: 0.2039 | Acc: 83.10%\n"
          ]
        },
        {
          "output_type": "stream",
          "name": "stderr",
          "text": [
            "Training Epoch 8:  65%|██████▍   | 401/620 [02:11<01:26,  2.52it/s]"
          ]
        },
        {
          "output_type": "stream",
          "name": "stdout",
          "text": [
            "  Batch 400/620 | Loss: 0.2232 | Acc: 83.18%\n"
          ]
        },
        {
          "output_type": "stream",
          "name": "stderr",
          "text": [
            "Training Epoch 8:  81%|████████  | 501/620 [02:44<00:36,  3.29it/s]"
          ]
        },
        {
          "output_type": "stream",
          "name": "stdout",
          "text": [
            "  Batch 500/620 | Loss: 0.2428 | Acc: 82.90%\n"
          ]
        },
        {
          "output_type": "stream",
          "name": "stderr",
          "text": [
            "Training Epoch 8:  97%|█████████▋| 601/620 [03:16<00:07,  2.50it/s]"
          ]
        },
        {
          "output_type": "stream",
          "name": "stdout",
          "text": [
            "  Batch 600/620 | Loss: 0.4240 | Acc: 83.07%\n"
          ]
        },
        {
          "output_type": "stream",
          "name": "stderr",
          "text": [
            "Training Epoch 8: 100%|██████████| 620/620 [03:22<00:00,  3.06it/s]\n"
          ]
        },
        {
          "output_type": "stream",
          "name": "stdout",
          "text": [
            "Epoch 8/20 - Validating...\n"
          ]
        },
        {
          "output_type": "stream",
          "name": "stderr",
          "text": [
            "Validation Epoch 8: 100%|██████████| 78/78 [00:12<00:00,  6.33it/s]\n"
          ]
        },
        {
          "output_type": "stream",
          "name": "stdout",
          "text": [
            "\n",
            "EPOCH 8 COMPLETED:\n",
            "   Train Loss: 0.4029 | Train Acc: 83.06%\n",
            "   Val Loss:   0.4036 | Val Acc:   82.24%\n",
            "   Epoch Time: 215.1s | Total Time: 1719.8s\n",
            "   No improvement. Early stop counter: 2/5\n",
            "\n",
            "Epoch 9/20 - Training...\n"
          ]
        },
        {
          "output_type": "stream",
          "name": "stderr",
          "text": [
            "Training Epoch 9:   0%|          | 1/620 [00:00<08:48,  1.17it/s]"
          ]
        },
        {
          "output_type": "stream",
          "name": "stdout",
          "text": [
            "  Batch 0/620 | Loss: 0.4431 | Acc: 81.25%\n"
          ]
        },
        {
          "output_type": "stream",
          "name": "stderr",
          "text": [
            "Training Epoch 9:  16%|█▋        | 101/620 [00:33<03:15,  2.66it/s]"
          ]
        },
        {
          "output_type": "stream",
          "name": "stdout",
          "text": [
            "  Batch 100/620 | Loss: 0.3573 | Acc: 83.04%\n"
          ]
        },
        {
          "output_type": "stream",
          "name": "stderr",
          "text": [
            "Training Epoch 9:  32%|███▏      | 201/620 [01:05<02:10,  3.21it/s]"
          ]
        },
        {
          "output_type": "stream",
          "name": "stdout",
          "text": [
            "  Batch 200/620 | Loss: 0.2609 | Acc: 83.08%\n"
          ]
        },
        {
          "output_type": "stream",
          "name": "stderr",
          "text": [
            "Training Epoch 9:  49%|████▊     | 301/620 [01:38<01:55,  2.77it/s]"
          ]
        },
        {
          "output_type": "stream",
          "name": "stdout",
          "text": [
            "  Batch 300/620 | Loss: 0.3910 | Acc: 82.85%\n"
          ]
        },
        {
          "output_type": "stream",
          "name": "stderr",
          "text": [
            "Training Epoch 9:  65%|██████▍   | 401/620 [02:10<01:06,  3.28it/s]"
          ]
        },
        {
          "output_type": "stream",
          "name": "stdout",
          "text": [
            "  Batch 400/620 | Loss: 0.1051 | Acc: 82.62%\n"
          ]
        },
        {
          "output_type": "stream",
          "name": "stderr",
          "text": [
            "Training Epoch 9:  81%|████████  | 501/620 [02:43<00:38,  3.08it/s]"
          ]
        },
        {
          "output_type": "stream",
          "name": "stdout",
          "text": [
            "  Batch 500/620 | Loss: 0.3119 | Acc: 82.93%\n"
          ]
        },
        {
          "output_type": "stream",
          "name": "stderr",
          "text": [
            "Training Epoch 9:  97%|█████████▋| 601/620 [03:15<00:05,  3.35it/s]"
          ]
        },
        {
          "output_type": "stream",
          "name": "stdout",
          "text": [
            "  Batch 600/620 | Loss: 0.3746 | Acc: 83.04%\n"
          ]
        },
        {
          "output_type": "stream",
          "name": "stderr",
          "text": [
            "Training Epoch 9: 100%|██████████| 620/620 [03:22<00:00,  3.06it/s]\n"
          ]
        },
        {
          "output_type": "stream",
          "name": "stdout",
          "text": [
            "Epoch 9/20 - Validating...\n"
          ]
        },
        {
          "output_type": "stream",
          "name": "stderr",
          "text": [
            "Validation Epoch 9: 100%|██████████| 78/78 [00:12<00:00,  6.42it/s]\n"
          ]
        },
        {
          "output_type": "stream",
          "name": "stdout",
          "text": [
            "\n",
            "EPOCH 9 COMPLETED:\n",
            "   Train Loss: 0.3941 | Train Acc: 82.96%\n",
            "   Val Loss:   0.3950 | Val Acc:   82.16%\n",
            "   Epoch Time: 214.5s | Total Time: 1934.3s\n",
            "   No improvement. Early stop counter: 3/5\n",
            "\n",
            "Epoch 10/20 - Training...\n"
          ]
        },
        {
          "output_type": "stream",
          "name": "stderr",
          "text": [
            "Training Epoch 10:   0%|          | 1/620 [00:00<08:28,  1.22it/s]"
          ]
        },
        {
          "output_type": "stream",
          "name": "stdout",
          "text": [
            "  Batch 0/620 | Loss: 0.3738 | Acc: 87.50%\n"
          ]
        },
        {
          "output_type": "stream",
          "name": "stderr",
          "text": [
            "Training Epoch 10:  16%|█▋        | 101/620 [00:32<02:40,  3.24it/s]"
          ]
        },
        {
          "output_type": "stream",
          "name": "stdout",
          "text": [
            "  Batch 100/620 | Loss: 0.2066 | Acc: 83.48%\n"
          ]
        },
        {
          "output_type": "stream",
          "name": "stderr",
          "text": [
            "Training Epoch 10:  32%|███▏      | 201/620 [01:05<02:09,  3.22it/s]"
          ]
        },
        {
          "output_type": "stream",
          "name": "stdout",
          "text": [
            "  Batch 200/620 | Loss: 0.3904 | Acc: 82.71%\n"
          ]
        },
        {
          "output_type": "stream",
          "name": "stderr",
          "text": [
            "Training Epoch 10:  49%|████▊     | 301/620 [01:37<01:37,  3.28it/s]"
          ]
        },
        {
          "output_type": "stream",
          "name": "stdout",
          "text": [
            "  Batch 300/620 | Loss: 0.3339 | Acc: 83.06%\n"
          ]
        },
        {
          "output_type": "stream",
          "name": "stderr",
          "text": [
            "Training Epoch 10:  65%|██████▍   | 401/620 [02:09<01:07,  3.23it/s]"
          ]
        },
        {
          "output_type": "stream",
          "name": "stdout",
          "text": [
            "  Batch 400/620 | Loss: 0.3648 | Acc: 83.28%\n"
          ]
        },
        {
          "output_type": "stream",
          "name": "stderr",
          "text": [
            "Training Epoch 10:  81%|████████  | 501/620 [02:41<00:36,  3.30it/s]"
          ]
        },
        {
          "output_type": "stream",
          "name": "stdout",
          "text": [
            "  Batch 500/620 | Loss: 0.3417 | Acc: 83.40%\n"
          ]
        },
        {
          "output_type": "stream",
          "name": "stderr",
          "text": [
            "Training Epoch 10:  97%|█████████▋| 601/620 [03:13<00:05,  3.26it/s]"
          ]
        },
        {
          "output_type": "stream",
          "name": "stdout",
          "text": [
            "  Batch 600/620 | Loss: 0.5505 | Acc: 83.18%\n"
          ]
        },
        {
          "output_type": "stream",
          "name": "stderr",
          "text": [
            "Training Epoch 10: 100%|██████████| 620/620 [03:19<00:00,  3.11it/s]\n"
          ]
        },
        {
          "output_type": "stream",
          "name": "stdout",
          "text": [
            "Epoch 10/20 - Validating...\n"
          ]
        },
        {
          "output_type": "stream",
          "name": "stderr",
          "text": [
            "Validation Epoch 10: 100%|██████████| 78/78 [00:12<00:00,  6.43it/s]\n"
          ]
        },
        {
          "output_type": "stream",
          "name": "stdout",
          "text": [
            "\n",
            "EPOCH 10 COMPLETED:\n",
            "   Train Loss: 0.3958 | Train Acc: 83.18%\n",
            "   Val Loss:   0.3582 | Val Acc:   84.26%\n",
            "   Epoch Time: 211.6s | Total Time: 2145.9s\n",
            "   NEW BEST MODEL! Val Loss improved to 0.3582\n",
            "\n",
            "Epoch 11/20 - Training...\n"
          ]
        },
        {
          "output_type": "stream",
          "name": "stderr",
          "text": [
            "Training Epoch 11:   0%|          | 1/620 [00:00<08:32,  1.21it/s]"
          ]
        },
        {
          "output_type": "stream",
          "name": "stdout",
          "text": [
            "  Batch 0/620 | Loss: 0.3819 | Acc: 81.25%\n"
          ]
        },
        {
          "output_type": "stream",
          "name": "stderr",
          "text": [
            "Training Epoch 11:  16%|█▋        | 101/620 [00:33<02:37,  3.29it/s]"
          ]
        },
        {
          "output_type": "stream",
          "name": "stdout",
          "text": [
            "  Batch 100/620 | Loss: 0.3920 | Acc: 83.91%\n"
          ]
        },
        {
          "output_type": "stream",
          "name": "stderr",
          "text": [
            "Training Epoch 11:  32%|███▏      | 201/620 [01:05<02:08,  3.26it/s]"
          ]
        },
        {
          "output_type": "stream",
          "name": "stdout",
          "text": [
            "  Batch 200/620 | Loss: 0.6898 | Acc: 83.64%\n"
          ]
        },
        {
          "output_type": "stream",
          "name": "stderr",
          "text": [
            "Training Epoch 11:  49%|████▊     | 301/620 [01:37<01:37,  3.29it/s]"
          ]
        },
        {
          "output_type": "stream",
          "name": "stdout",
          "text": [
            "  Batch 300/620 | Loss: 0.3284 | Acc: 83.80%\n"
          ]
        },
        {
          "output_type": "stream",
          "name": "stderr",
          "text": [
            "Training Epoch 11:  65%|██████▍   | 401/620 [02:10<01:14,  2.92it/s]"
          ]
        },
        {
          "output_type": "stream",
          "name": "stdout",
          "text": [
            "  Batch 400/620 | Loss: 0.5533 | Acc: 83.93%\n"
          ]
        },
        {
          "output_type": "stream",
          "name": "stderr",
          "text": [
            "Training Epoch 11:  81%|████████  | 501/620 [02:42<00:36,  3.24it/s]"
          ]
        },
        {
          "output_type": "stream",
          "name": "stdout",
          "text": [
            "  Batch 500/620 | Loss: 0.4160 | Acc: 84.13%\n"
          ]
        },
        {
          "output_type": "stream",
          "name": "stderr",
          "text": [
            "Training Epoch 11:  97%|█████████▋| 601/620 [03:14<00:06,  2.84it/s]"
          ]
        },
        {
          "output_type": "stream",
          "name": "stdout",
          "text": [
            "  Batch 600/620 | Loss: 0.5441 | Acc: 83.91%\n"
          ]
        },
        {
          "output_type": "stream",
          "name": "stderr",
          "text": [
            "Training Epoch 11: 100%|██████████| 620/620 [03:20<00:00,  3.09it/s]\n"
          ]
        },
        {
          "output_type": "stream",
          "name": "stdout",
          "text": [
            "Epoch 11/20 - Validating...\n"
          ]
        },
        {
          "output_type": "stream",
          "name": "stderr",
          "text": [
            "Validation Epoch 11: 100%|██████████| 78/78 [00:12<00:00,  6.45it/s]\n"
          ]
        },
        {
          "output_type": "stream",
          "name": "stdout",
          "text": [
            "\n",
            "EPOCH 11 COMPLETED:\n",
            "   Train Loss: 0.3851 | Train Acc: 83.94%\n",
            "   Val Loss:   0.3789 | Val Acc:   84.50%\n",
            "   Epoch Time: 213.0s | Total Time: 2358.8s\n",
            "   No improvement. Early stop counter: 1/5\n",
            "\n",
            "Epoch 12/20 - Training...\n"
          ]
        },
        {
          "output_type": "stream",
          "name": "stderr",
          "text": [
            "Training Epoch 12:   0%|          | 1/620 [00:00<08:30,  1.21it/s]"
          ]
        },
        {
          "output_type": "stream",
          "name": "stdout",
          "text": [
            "  Batch 0/620 | Loss: 0.5911 | Acc: 68.75%\n"
          ]
        },
        {
          "output_type": "stream",
          "name": "stderr",
          "text": [
            "Training Epoch 12:  16%|█▋        | 101/620 [00:33<02:53,  2.99it/s]"
          ]
        },
        {
          "output_type": "stream",
          "name": "stdout",
          "text": [
            "  Batch 100/620 | Loss: 0.5313 | Acc: 83.66%\n"
          ]
        },
        {
          "output_type": "stream",
          "name": "stderr",
          "text": [
            "Training Epoch 12:  32%|███▏      | 201/620 [01:05<02:13,  3.13it/s]"
          ]
        },
        {
          "output_type": "stream",
          "name": "stdout",
          "text": [
            "  Batch 200/620 | Loss: 0.3630 | Acc: 83.64%\n"
          ]
        },
        {
          "output_type": "stream",
          "name": "stderr",
          "text": [
            "Training Epoch 12:  49%|████▊     | 301/620 [01:38<01:58,  2.68it/s]"
          ]
        },
        {
          "output_type": "stream",
          "name": "stdout",
          "text": [
            "  Batch 300/620 | Loss: 0.3708 | Acc: 84.22%\n"
          ]
        },
        {
          "output_type": "stream",
          "name": "stderr",
          "text": [
            "Training Epoch 12:  65%|██████▍   | 401/620 [02:10<01:06,  3.30it/s]"
          ]
        },
        {
          "output_type": "stream",
          "name": "stdout",
          "text": [
            "  Batch 400/620 | Loss: 0.4115 | Acc: 84.46%\n"
          ]
        },
        {
          "output_type": "stream",
          "name": "stderr",
          "text": [
            "Training Epoch 12:  81%|████████  | 501/620 [02:42<00:40,  2.92it/s]"
          ]
        },
        {
          "output_type": "stream",
          "name": "stdout",
          "text": [
            "  Batch 500/620 | Loss: 0.1003 | Acc: 84.27%\n"
          ]
        },
        {
          "output_type": "stream",
          "name": "stderr",
          "text": [
            "Training Epoch 12:  97%|█████████▋| 601/620 [03:15<00:05,  3.26it/s]"
          ]
        },
        {
          "output_type": "stream",
          "name": "stdout",
          "text": [
            "  Batch 600/620 | Loss: 0.3982 | Acc: 84.04%\n"
          ]
        },
        {
          "output_type": "stream",
          "name": "stderr",
          "text": [
            "Training Epoch 12: 100%|██████████| 620/620 [03:21<00:00,  3.08it/s]\n"
          ]
        },
        {
          "output_type": "stream",
          "name": "stdout",
          "text": [
            "Epoch 12/20 - Validating...\n"
          ]
        },
        {
          "output_type": "stream",
          "name": "stderr",
          "text": [
            "Validation Epoch 12: 100%|██████████| 78/78 [00:12<00:00,  6.41it/s]\n"
          ]
        },
        {
          "output_type": "stream",
          "name": "stdout",
          "text": [
            "\n",
            "EPOCH 12 COMPLETED:\n",
            "   Train Loss: 0.3752 | Train Acc: 84.07%\n",
            "   Val Loss:   0.3664 | Val Acc:   84.42%\n",
            "   Epoch Time: 213.8s | Total Time: 2572.6s\n",
            "   No improvement. Early stop counter: 2/5\n",
            "\n",
            "Epoch 13/20 - Training...\n"
          ]
        },
        {
          "output_type": "stream",
          "name": "stderr",
          "text": [
            "Training Epoch 13:   0%|          | 1/620 [00:00<08:29,  1.21it/s]"
          ]
        },
        {
          "output_type": "stream",
          "name": "stdout",
          "text": [
            "  Batch 0/620 | Loss: 0.3003 | Acc: 87.50%\n"
          ]
        },
        {
          "output_type": "stream",
          "name": "stderr",
          "text": [
            "Training Epoch 13:  16%|█▋        | 101/620 [00:32<02:36,  3.31it/s]"
          ]
        },
        {
          "output_type": "stream",
          "name": "stdout",
          "text": [
            "  Batch 100/620 | Loss: 0.2692 | Acc: 85.33%\n"
          ]
        },
        {
          "output_type": "stream",
          "name": "stderr",
          "text": [
            "Training Epoch 13:  32%|███▏      | 201/620 [01:05<02:11,  3.18it/s]"
          ]
        },
        {
          "output_type": "stream",
          "name": "stdout",
          "text": [
            "  Batch 200/620 | Loss: 0.2558 | Acc: 85.32%\n"
          ]
        },
        {
          "output_type": "stream",
          "name": "stderr",
          "text": [
            "Training Epoch 13:  49%|████▊     | 301/620 [01:37<01:37,  3.28it/s]"
          ]
        },
        {
          "output_type": "stream",
          "name": "stdout",
          "text": [
            "  Batch 300/620 | Loss: 0.4444 | Acc: 85.26%\n"
          ]
        },
        {
          "output_type": "stream",
          "name": "stderr",
          "text": [
            "Training Epoch 13:  65%|██████▍   | 401/620 [02:10<01:08,  3.18it/s]"
          ]
        },
        {
          "output_type": "stream",
          "name": "stdout",
          "text": [
            "  Batch 400/620 | Loss: 0.3123 | Acc: 84.66%\n"
          ]
        },
        {
          "output_type": "stream",
          "name": "stderr",
          "text": [
            "Training Epoch 13:  81%|████████  | 501/620 [02:43<00:36,  3.24it/s]"
          ]
        },
        {
          "output_type": "stream",
          "name": "stdout",
          "text": [
            "  Batch 500/620 | Loss: 0.3189 | Acc: 84.52%\n"
          ]
        },
        {
          "output_type": "stream",
          "name": "stderr",
          "text": [
            "Training Epoch 13:  97%|█████████▋| 601/620 [03:15<00:05,  3.24it/s]"
          ]
        },
        {
          "output_type": "stream",
          "name": "stdout",
          "text": [
            "  Batch 600/620 | Loss: 0.7692 | Acc: 84.72%\n"
          ]
        },
        {
          "output_type": "stream",
          "name": "stderr",
          "text": [
            "Training Epoch 13: 100%|██████████| 620/620 [03:21<00:00,  3.08it/s]\n"
          ]
        },
        {
          "output_type": "stream",
          "name": "stdout",
          "text": [
            "Epoch 13/20 - Validating...\n"
          ]
        },
        {
          "output_type": "stream",
          "name": "stderr",
          "text": [
            "Validation Epoch 13: 100%|██████████| 78/78 [00:12<00:00,  6.42it/s]\n"
          ]
        },
        {
          "output_type": "stream",
          "name": "stdout",
          "text": [
            "\n",
            "EPOCH 13 COMPLETED:\n",
            "   Train Loss: 0.3702 | Train Acc: 84.73%\n",
            "   Val Loss:   0.3569 | Val Acc:   84.10%\n",
            "   Epoch Time: 213.8s | Total Time: 2786.4s\n",
            "   NEW BEST MODEL! Val Loss improved to 0.3569\n",
            "\n",
            "Epoch 14/20 - Training...\n"
          ]
        },
        {
          "output_type": "stream",
          "name": "stderr",
          "text": [
            "Training Epoch 14:   0%|          | 1/620 [00:01<11:25,  1.11s/it]"
          ]
        },
        {
          "output_type": "stream",
          "name": "stdout",
          "text": [
            "  Batch 0/620 | Loss: 0.7121 | Acc: 75.00%\n"
          ]
        },
        {
          "output_type": "stream",
          "name": "stderr",
          "text": [
            "Training Epoch 14:  16%|█▋        | 101/620 [00:34<02:39,  3.26it/s]"
          ]
        },
        {
          "output_type": "stream",
          "name": "stdout",
          "text": [
            "  Batch 100/620 | Loss: 0.3029 | Acc: 83.42%\n"
          ]
        },
        {
          "output_type": "stream",
          "name": "stderr",
          "text": [
            "Training Epoch 14:  32%|███▏      | 201/620 [01:06<02:27,  2.84it/s]"
          ]
        },
        {
          "output_type": "stream",
          "name": "stdout",
          "text": [
            "  Batch 200/620 | Loss: 0.6604 | Acc: 83.77%\n"
          ]
        },
        {
          "output_type": "stream",
          "name": "stderr",
          "text": [
            "Training Epoch 14:  49%|████▊     | 301/620 [01:39<01:37,  3.27it/s]"
          ]
        },
        {
          "output_type": "stream",
          "name": "stdout",
          "text": [
            "  Batch 300/620 | Loss: 0.2712 | Acc: 84.43%\n"
          ]
        },
        {
          "output_type": "stream",
          "name": "stderr",
          "text": [
            "Training Epoch 14:  65%|██████▍   | 401/620 [02:11<01:30,  2.42it/s]"
          ]
        },
        {
          "output_type": "stream",
          "name": "stdout",
          "text": [
            "  Batch 400/620 | Loss: 0.2760 | Acc: 84.37%\n"
          ]
        },
        {
          "output_type": "stream",
          "name": "stderr",
          "text": [
            "Training Epoch 14:  81%|████████  | 501/620 [02:43<00:36,  3.27it/s]"
          ]
        },
        {
          "output_type": "stream",
          "name": "stdout",
          "text": [
            "  Batch 500/620 | Loss: 0.3097 | Acc: 84.61%\n"
          ]
        },
        {
          "output_type": "stream",
          "name": "stderr",
          "text": [
            "Training Epoch 14:  97%|█████████▋| 601/620 [03:16<00:06,  2.96it/s]"
          ]
        },
        {
          "output_type": "stream",
          "name": "stdout",
          "text": [
            "  Batch 600/620 | Loss: 0.2702 | Acc: 84.69%\n"
          ]
        },
        {
          "output_type": "stream",
          "name": "stderr",
          "text": [
            "Training Epoch 14: 100%|██████████| 620/620 [03:22<00:00,  3.06it/s]\n"
          ]
        },
        {
          "output_type": "stream",
          "name": "stdout",
          "text": [
            "Epoch 14/20 - Validating...\n"
          ]
        },
        {
          "output_type": "stream",
          "name": "stderr",
          "text": [
            "Validation Epoch 14: 100%|██████████| 78/78 [00:12<00:00,  6.35it/s]\n"
          ]
        },
        {
          "output_type": "stream",
          "name": "stdout",
          "text": [
            "\n",
            "EPOCH 14 COMPLETED:\n",
            "   Train Loss: 0.3636 | Train Acc: 84.59%\n",
            "   Val Loss:   0.3818 | Val Acc:   83.21%\n",
            "   Epoch Time: 214.9s | Total Time: 3001.3s\n",
            "   No improvement. Early stop counter: 1/5\n",
            "\n",
            "Epoch 15/20 - Training...\n"
          ]
        },
        {
          "output_type": "stream",
          "name": "stderr",
          "text": [
            "Training Epoch 15:   0%|          | 1/620 [00:00<08:16,  1.25it/s]"
          ]
        },
        {
          "output_type": "stream",
          "name": "stdout",
          "text": [
            "  Batch 0/620 | Loss: 0.5438 | Acc: 62.50%\n"
          ]
        },
        {
          "output_type": "stream",
          "name": "stderr",
          "text": [
            "Training Epoch 15:  16%|█▋        | 101/620 [00:33<02:50,  3.05it/s]"
          ]
        },
        {
          "output_type": "stream",
          "name": "stdout",
          "text": [
            "  Batch 100/620 | Loss: 0.2666 | Acc: 84.78%\n"
          ]
        },
        {
          "output_type": "stream",
          "name": "stderr",
          "text": [
            "Training Epoch 15:  32%|███▏      | 201/620 [01:05<02:06,  3.31it/s]"
          ]
        },
        {
          "output_type": "stream",
          "name": "stdout",
          "text": [
            "  Batch 200/620 | Loss: 0.2858 | Acc: 84.83%\n"
          ]
        },
        {
          "output_type": "stream",
          "name": "stderr",
          "text": [
            "Training Epoch 15:  49%|████▊     | 301/620 [01:37<01:56,  2.74it/s]"
          ]
        },
        {
          "output_type": "stream",
          "name": "stdout",
          "text": [
            "  Batch 300/620 | Loss: 0.3439 | Acc: 84.61%\n"
          ]
        },
        {
          "output_type": "stream",
          "name": "stderr",
          "text": [
            "Training Epoch 15:  65%|██████▍   | 401/620 [02:09<01:07,  3.23it/s]"
          ]
        },
        {
          "output_type": "stream",
          "name": "stdout",
          "text": [
            "  Batch 400/620 | Loss: 0.1876 | Acc: 85.02%\n"
          ]
        },
        {
          "output_type": "stream",
          "name": "stderr",
          "text": [
            "Training Epoch 15:  81%|████████  | 501/620 [02:42<00:42,  2.82it/s]"
          ]
        },
        {
          "output_type": "stream",
          "name": "stdout",
          "text": [
            "  Batch 500/620 | Loss: 0.3558 | Acc: 84.98%\n"
          ]
        },
        {
          "output_type": "stream",
          "name": "stderr",
          "text": [
            "Training Epoch 15:  97%|█████████▋| 601/620 [03:14<00:05,  3.27it/s]"
          ]
        },
        {
          "output_type": "stream",
          "name": "stdout",
          "text": [
            "  Batch 600/620 | Loss: 0.3393 | Acc: 85.08%\n"
          ]
        },
        {
          "output_type": "stream",
          "name": "stderr",
          "text": [
            "Training Epoch 15: 100%|██████████| 620/620 [03:20<00:00,  3.09it/s]\n"
          ]
        },
        {
          "output_type": "stream",
          "name": "stdout",
          "text": [
            "Epoch 15/20 - Validating...\n"
          ]
        },
        {
          "output_type": "stream",
          "name": "stderr",
          "text": [
            "Validation Epoch 15: 100%|██████████| 78/78 [00:12<00:00,  6.46it/s]\n"
          ]
        },
        {
          "output_type": "stream",
          "name": "stdout",
          "text": [
            "\n",
            "EPOCH 15 COMPLETED:\n",
            "   Train Loss: 0.3561 | Train Acc: 85.11%\n",
            "   Val Loss:   0.3679 | Val Acc:   84.50%\n",
            "   Epoch Time: 212.9s | Total Time: 3214.2s\n",
            "   No improvement. Early stop counter: 2/5\n",
            "\n",
            "Epoch 16/20 - Training...\n"
          ]
        },
        {
          "output_type": "stream",
          "name": "stderr",
          "text": [
            "Training Epoch 16:   0%|          | 1/620 [00:00<08:26,  1.22it/s]"
          ]
        },
        {
          "output_type": "stream",
          "name": "stdout",
          "text": [
            "  Batch 0/620 | Loss: 0.2575 | Acc: 87.50%\n"
          ]
        },
        {
          "output_type": "stream",
          "name": "stderr",
          "text": [
            "Training Epoch 16:  16%|█▋        | 101/620 [00:32<02:39,  3.25it/s]"
          ]
        },
        {
          "output_type": "stream",
          "name": "stdout",
          "text": [
            "  Batch 100/620 | Loss: 0.6000 | Acc: 83.11%\n"
          ]
        },
        {
          "output_type": "stream",
          "name": "stderr",
          "text": [
            "Training Epoch 16:  32%|███▏      | 201/620 [01:05<02:17,  3.04it/s]"
          ]
        },
        {
          "output_type": "stream",
          "name": "stdout",
          "text": [
            "  Batch 200/620 | Loss: 0.4511 | Acc: 84.55%\n"
          ]
        },
        {
          "output_type": "stream",
          "name": "stderr",
          "text": [
            "Training Epoch 16:  49%|████▊     | 301/620 [01:37<01:37,  3.28it/s]"
          ]
        },
        {
          "output_type": "stream",
          "name": "stdout",
          "text": [
            "  Batch 300/620 | Loss: 0.0954 | Acc: 85.15%\n"
          ]
        },
        {
          "output_type": "stream",
          "name": "stderr",
          "text": [
            "Training Epoch 16:  65%|██████▍   | 401/620 [02:10<01:09,  3.15it/s]"
          ]
        },
        {
          "output_type": "stream",
          "name": "stdout",
          "text": [
            "  Batch 400/620 | Loss: 0.7059 | Acc: 85.08%\n"
          ]
        },
        {
          "output_type": "stream",
          "name": "stderr",
          "text": [
            "Training Epoch 16:  81%|████████  | 501/620 [02:42<00:36,  3.27it/s]"
          ]
        },
        {
          "output_type": "stream",
          "name": "stdout",
          "text": [
            "  Batch 500/620 | Loss: 0.4963 | Acc: 85.19%\n"
          ]
        },
        {
          "output_type": "stream",
          "name": "stderr",
          "text": [
            "Training Epoch 16:  97%|█████████▋| 601/620 [03:15<00:05,  3.20it/s]"
          ]
        },
        {
          "output_type": "stream",
          "name": "stdout",
          "text": [
            "  Batch 600/620 | Loss: 0.2045 | Acc: 85.26%\n"
          ]
        },
        {
          "output_type": "stream",
          "name": "stderr",
          "text": [
            "Training Epoch 16: 100%|██████████| 620/620 [03:20<00:00,  3.09it/s]\n"
          ]
        },
        {
          "output_type": "stream",
          "name": "stdout",
          "text": [
            "Epoch 16/20 - Validating...\n"
          ]
        },
        {
          "output_type": "stream",
          "name": "stderr",
          "text": [
            "Validation Epoch 16: 100%|██████████| 78/78 [00:12<00:00,  6.50it/s]\n"
          ]
        },
        {
          "output_type": "stream",
          "name": "stdout",
          "text": [
            "\n",
            "EPOCH 16 COMPLETED:\n",
            "   Train Loss: 0.3531 | Train Acc: 85.33%\n",
            "   Val Loss:   0.3525 | Val Acc:   83.86%\n",
            "   Epoch Time: 212.8s | Total Time: 3427.0s\n",
            "   NEW BEST MODEL! Val Loss improved to 0.3525\n",
            "\n",
            "Epoch 17/20 - Training...\n"
          ]
        },
        {
          "output_type": "stream",
          "name": "stderr",
          "text": [
            "Training Epoch 17:   0%|          | 1/620 [00:00<08:25,  1.23it/s]"
          ]
        },
        {
          "output_type": "stream",
          "name": "stdout",
          "text": [
            "  Batch 0/620 | Loss: 0.3122 | Acc: 87.50%\n"
          ]
        },
        {
          "output_type": "stream",
          "name": "stderr",
          "text": [
            "Training Epoch 17:  16%|█▋        | 101/620 [00:33<02:47,  3.10it/s]"
          ]
        },
        {
          "output_type": "stream",
          "name": "stdout",
          "text": [
            "  Batch 100/620 | Loss: 0.1045 | Acc: 85.89%\n"
          ]
        },
        {
          "output_type": "stream",
          "name": "stderr",
          "text": [
            "Training Epoch 17:  32%|███▏      | 201/620 [01:05<02:07,  3.28it/s]"
          ]
        },
        {
          "output_type": "stream",
          "name": "stdout",
          "text": [
            "  Batch 200/620 | Loss: 0.2643 | Acc: 85.91%\n"
          ]
        },
        {
          "output_type": "stream",
          "name": "stderr",
          "text": [
            "Training Epoch 17:  49%|████▊     | 301/620 [01:38<01:39,  3.20it/s]"
          ]
        },
        {
          "output_type": "stream",
          "name": "stdout",
          "text": [
            "  Batch 300/620 | Loss: 0.5287 | Acc: 85.61%\n"
          ]
        },
        {
          "output_type": "stream",
          "name": "stderr",
          "text": [
            "Training Epoch 17:  65%|██████▍   | 401/620 [02:10<01:06,  3.29it/s]"
          ]
        },
        {
          "output_type": "stream",
          "name": "stdout",
          "text": [
            "  Batch 400/620 | Loss: 0.1466 | Acc: 85.75%\n"
          ]
        },
        {
          "output_type": "stream",
          "name": "stderr",
          "text": [
            "Training Epoch 17:  81%|████████  | 501/620 [02:42<00:37,  3.20it/s]"
          ]
        },
        {
          "output_type": "stream",
          "name": "stdout",
          "text": [
            "  Batch 500/620 | Loss: 0.4448 | Acc: 85.60%\n"
          ]
        },
        {
          "output_type": "stream",
          "name": "stderr",
          "text": [
            "Training Epoch 17:  97%|█████████▋| 601/620 [03:14<00:05,  3.29it/s]"
          ]
        },
        {
          "output_type": "stream",
          "name": "stdout",
          "text": [
            "  Batch 600/620 | Loss: 0.2542 | Acc: 85.37%\n"
          ]
        },
        {
          "output_type": "stream",
          "name": "stderr",
          "text": [
            "Training Epoch 17: 100%|██████████| 620/620 [03:20<00:00,  3.09it/s]\n"
          ]
        },
        {
          "output_type": "stream",
          "name": "stdout",
          "text": [
            "Epoch 17/20 - Validating...\n"
          ]
        },
        {
          "output_type": "stream",
          "name": "stderr",
          "text": [
            "Validation Epoch 17: 100%|██████████| 78/78 [00:12<00:00,  6.26it/s]\n"
          ]
        },
        {
          "output_type": "stream",
          "name": "stdout",
          "text": [
            "\n",
            "EPOCH 17 COMPLETED:\n",
            "   Train Loss: 0.3452 | Train Acc: 85.31%\n",
            "   Val Loss:   0.3567 | Val Acc:   85.15%\n",
            "   Epoch Time: 213.4s | Total Time: 3640.5s\n",
            "   No improvement. Early stop counter: 1/5\n",
            "\n",
            "Epoch 18/20 - Training...\n"
          ]
        },
        {
          "output_type": "stream",
          "name": "stderr",
          "text": [
            "Training Epoch 18:   0%|          | 1/620 [00:00<08:39,  1.19it/s]"
          ]
        },
        {
          "output_type": "stream",
          "name": "stdout",
          "text": [
            "  Batch 0/620 | Loss: 0.3691 | Acc: 81.25%\n"
          ]
        },
        {
          "output_type": "stream",
          "name": "stderr",
          "text": [
            "Training Epoch 18:  16%|█▋        | 101/620 [00:32<02:46,  3.12it/s]"
          ]
        },
        {
          "output_type": "stream",
          "name": "stdout",
          "text": [
            "  Batch 100/620 | Loss: 0.2188 | Acc: 86.08%\n"
          ]
        },
        {
          "output_type": "stream",
          "name": "stderr",
          "text": [
            "Training Epoch 18:  32%|███▏      | 201/620 [01:05<02:11,  3.18it/s]"
          ]
        },
        {
          "output_type": "stream",
          "name": "stdout",
          "text": [
            "  Batch 200/620 | Loss: 0.2813 | Acc: 85.73%\n"
          ]
        },
        {
          "output_type": "stream",
          "name": "stderr",
          "text": [
            "Training Epoch 18:  49%|████▊     | 301/620 [01:37<01:51,  2.85it/s]"
          ]
        },
        {
          "output_type": "stream",
          "name": "stdout",
          "text": [
            "  Batch 300/620 | Loss: 0.1649 | Acc: 85.61%\n"
          ]
        },
        {
          "output_type": "stream",
          "name": "stderr",
          "text": [
            "Training Epoch 18:  65%|██████▍   | 401/620 [02:09<01:07,  3.26it/s]"
          ]
        },
        {
          "output_type": "stream",
          "name": "stdout",
          "text": [
            "  Batch 400/620 | Loss: 0.2239 | Acc: 85.43%\n"
          ]
        },
        {
          "output_type": "stream",
          "name": "stderr",
          "text": [
            "Training Epoch 18:  81%|████████  | 501/620 [02:41<00:36,  3.23it/s]"
          ]
        },
        {
          "output_type": "stream",
          "name": "stdout",
          "text": [
            "  Batch 500/620 | Loss: 0.1605 | Acc: 85.77%\n"
          ]
        },
        {
          "output_type": "stream",
          "name": "stderr",
          "text": [
            "Training Epoch 18:  97%|█████████▋| 601/620 [03:14<00:05,  3.29it/s]"
          ]
        },
        {
          "output_type": "stream",
          "name": "stdout",
          "text": [
            "  Batch 600/620 | Loss: 0.3460 | Acc: 85.53%\n"
          ]
        },
        {
          "output_type": "stream",
          "name": "stderr",
          "text": [
            "Training Epoch 18: 100%|██████████| 620/620 [03:20<00:00,  3.09it/s]\n"
          ]
        },
        {
          "output_type": "stream",
          "name": "stdout",
          "text": [
            "Epoch 18/20 - Validating...\n"
          ]
        },
        {
          "output_type": "stream",
          "name": "stderr",
          "text": [
            "Validation Epoch 18: 100%|██████████| 78/78 [00:11<00:00,  6.60it/s]\n"
          ]
        },
        {
          "output_type": "stream",
          "name": "stdout",
          "text": [
            "\n",
            "EPOCH 18 COMPLETED:\n",
            "   Train Loss: 0.3451 | Train Acc: 85.52%\n",
            "   Val Loss:   0.3565 | Val Acc:   84.18%\n",
            "   Epoch Time: 212.2s | Total Time: 3852.7s\n",
            "   No improvement. Early stop counter: 2/5\n",
            "\n",
            "Epoch 19/20 - Training...\n"
          ]
        },
        {
          "output_type": "stream",
          "name": "stderr",
          "text": [
            "Training Epoch 19:   0%|          | 1/620 [00:01<11:16,  1.09s/it]"
          ]
        },
        {
          "output_type": "stream",
          "name": "stdout",
          "text": [
            "  Batch 0/620 | Loss: 0.2038 | Acc: 93.75%\n"
          ]
        },
        {
          "output_type": "stream",
          "name": "stderr",
          "text": [
            "Training Epoch 19:  16%|█▋        | 101/620 [00:34<02:40,  3.23it/s]"
          ]
        },
        {
          "output_type": "stream",
          "name": "stdout",
          "text": [
            "  Batch 100/620 | Loss: 0.2150 | Acc: 86.39%\n"
          ]
        },
        {
          "output_type": "stream",
          "name": "stderr",
          "text": [
            "Training Epoch 19:  32%|███▏      | 201/620 [01:06<02:52,  2.43it/s]"
          ]
        },
        {
          "output_type": "stream",
          "name": "stdout",
          "text": [
            "  Batch 200/620 | Loss: 0.6285 | Acc: 86.82%\n"
          ]
        },
        {
          "output_type": "stream",
          "name": "stderr",
          "text": [
            "Training Epoch 19:  49%|████▊     | 301/620 [01:39<01:39,  3.21it/s]"
          ]
        },
        {
          "output_type": "stream",
          "name": "stdout",
          "text": [
            "  Batch 300/620 | Loss: 0.2195 | Acc: 86.42%\n"
          ]
        },
        {
          "output_type": "stream",
          "name": "stderr",
          "text": [
            "Training Epoch 19:  65%|██████▍   | 401/620 [02:11<01:16,  2.86it/s]"
          ]
        },
        {
          "output_type": "stream",
          "name": "stdout",
          "text": [
            "  Batch 400/620 | Loss: 0.3647 | Acc: 85.96%\n"
          ]
        },
        {
          "output_type": "stream",
          "name": "stderr",
          "text": [
            "Training Epoch 19:  81%|████████  | 501/620 [02:44<00:36,  3.27it/s]"
          ]
        },
        {
          "output_type": "stream",
          "name": "stdout",
          "text": [
            "  Batch 500/620 | Loss: 0.2405 | Acc: 85.88%\n"
          ]
        },
        {
          "output_type": "stream",
          "name": "stderr",
          "text": [
            "Training Epoch 19:  97%|█████████▋| 601/620 [03:16<00:06,  3.12it/s]"
          ]
        },
        {
          "output_type": "stream",
          "name": "stdout",
          "text": [
            "  Batch 600/620 | Loss: 0.4268 | Acc: 85.92%\n"
          ]
        },
        {
          "output_type": "stream",
          "name": "stderr",
          "text": [
            "Training Epoch 19: 100%|██████████| 620/620 [03:23<00:00,  3.05it/s]\n"
          ]
        },
        {
          "output_type": "stream",
          "name": "stdout",
          "text": [
            "Epoch 19/20 - Validating...\n"
          ]
        },
        {
          "output_type": "stream",
          "name": "stderr",
          "text": [
            "Validation Epoch 19: 100%|██████████| 78/78 [00:12<00:00,  6.38it/s]\n"
          ]
        },
        {
          "output_type": "stream",
          "name": "stdout",
          "text": [
            "\n",
            "EPOCH 19 COMPLETED:\n",
            "   Train Loss: 0.3419 | Train Acc: 85.93%\n",
            "   Val Loss:   0.3367 | Val Acc:   85.07%\n",
            "   Epoch Time: 215.3s | Total Time: 4067.9s\n",
            "   NEW BEST MODEL! Val Loss improved to 0.3367\n",
            "\n",
            "Epoch 20/20 - Training...\n"
          ]
        },
        {
          "output_type": "stream",
          "name": "stderr",
          "text": [
            "Training Epoch 20:   0%|          | 1/620 [00:00<08:41,  1.19it/s]"
          ]
        },
        {
          "output_type": "stream",
          "name": "stdout",
          "text": [
            "  Batch 0/620 | Loss: 0.3468 | Acc: 81.25%\n"
          ]
        },
        {
          "output_type": "stream",
          "name": "stderr",
          "text": [
            "Training Epoch 20:  16%|█▋        | 101/620 [00:33<02:40,  3.24it/s]"
          ]
        },
        {
          "output_type": "stream",
          "name": "stdout",
          "text": [
            "  Batch 100/620 | Loss: 0.2241 | Acc: 85.64%\n"
          ]
        },
        {
          "output_type": "stream",
          "name": "stderr",
          "text": [
            "Training Epoch 20:  32%|███▏      | 201/620 [01:05<02:08,  3.27it/s]"
          ]
        },
        {
          "output_type": "stream",
          "name": "stdout",
          "text": [
            "  Batch 200/620 | Loss: 0.4120 | Acc: 85.45%\n"
          ]
        },
        {
          "output_type": "stream",
          "name": "stderr",
          "text": [
            "Training Epoch 20:  49%|████▊     | 301/620 [01:38<01:42,  3.12it/s]"
          ]
        },
        {
          "output_type": "stream",
          "name": "stdout",
          "text": [
            "  Batch 300/620 | Loss: 0.3950 | Acc: 85.98%\n"
          ]
        },
        {
          "output_type": "stream",
          "name": "stderr",
          "text": [
            "Training Epoch 20:  65%|██████▍   | 401/620 [02:09<01:07,  3.25it/s]"
          ]
        },
        {
          "output_type": "stream",
          "name": "stdout",
          "text": [
            "  Batch 400/620 | Loss: 0.3197 | Acc: 85.58%\n"
          ]
        },
        {
          "output_type": "stream",
          "name": "stderr",
          "text": [
            "Training Epoch 20:  81%|████████  | 501/620 [02:42<00:36,  3.24it/s]"
          ]
        },
        {
          "output_type": "stream",
          "name": "stdout",
          "text": [
            "  Batch 500/620 | Loss: 0.2198 | Acc: 85.95%\n"
          ]
        },
        {
          "output_type": "stream",
          "name": "stderr",
          "text": [
            "Training Epoch 20:  97%|█████████▋| 601/620 [03:14<00:05,  3.31it/s]"
          ]
        },
        {
          "output_type": "stream",
          "name": "stdout",
          "text": [
            "  Batch 600/620 | Loss: 0.2168 | Acc: 85.85%\n"
          ]
        },
        {
          "output_type": "stream",
          "name": "stderr",
          "text": [
            "Training Epoch 20: 100%|██████████| 620/620 [03:20<00:00,  3.09it/s]\n"
          ]
        },
        {
          "output_type": "stream",
          "name": "stdout",
          "text": [
            "Epoch 20/20 - Validating...\n"
          ]
        },
        {
          "output_type": "stream",
          "name": "stderr",
          "text": [
            "Validation Epoch 20: 100%|██████████| 78/78 [00:12<00:00,  6.36it/s]\n"
          ]
        },
        {
          "output_type": "stream",
          "name": "stdout",
          "text": [
            "\n",
            "EPOCH 20 COMPLETED:\n",
            "   Train Loss: 0.3429 | Train Acc: 85.85%\n",
            "   Val Loss:   0.3689 | Val Acc:   85.55%\n",
            "   Epoch Time: 212.7s | Total Time: 4280.7s\n",
            "   No improvement. Early stop counter: 1/5\n",
            "\n",
            "TRAINING COMPLETED!\n",
            "Total training time: 4280.7 seconds (71.3 minutes)\n",
            "Best validation loss: 0.3367\n",
            "Best model weights saved to 'best_glaucoma_model.pth'\n"
          ]
        }
      ],
      "source": [
        "# FASTER Training Configuration - Optimized for Speed\n",
        "# This version will complete much faster while maintaining good performance\n",
        "\n",
        "import time\n",
        "\n",
        "# Optimized training parameters for faster execution\n",
        "criterion = nn.CrossEntropyLoss()\n",
        "optimizer = optim.AdamW(model.parameters(), lr=1e-3, weight_decay=1e-4)  # Higher learning rate\n",
        "\n",
        "EPOCHS = 20  # Reduced from 100\n",
        "PATIENCE = 5  # Reduced patience for faster stopping\n",
        "\n",
        "# Tracking variables\n",
        "train_losses, train_accuracies = [], []\n",
        "val_losses, val_accuracies = [], []\n",
        "all_val_preds_by_epoch = []\n",
        "all_val_labels_by_epoch = []\n",
        "\n",
        "best_val_loss = float(\"inf\")\n",
        "best_weights = None\n",
        "early_stop_counter = 0\n",
        "\n",
        "print(\"FAST TRAINING MODE - Optimized for Speed!\")\n",
        "print(f\"Training for maximum {EPOCHS} epochs with early stopping patience of {PATIENCE}\")\n",
        "print(f\"Using higher learning rate (1e-3) for faster convergence\")\n",
        "print(\"=\"*60)\n",
        "\n",
        "start_time = time.time()\n",
        "\n",
        "for epoch in range(EPOCHS):\n",
        "    epoch_start = time.time()\n",
        "\n",
        "    # Training phase\n",
        "    model.train()\n",
        "    running_loss, correct, total = 0.0, 0, 0\n",
        "\n",
        "    print(f\"\\nEpoch {epoch+1}/{EPOCHS} - Training...\")\n",
        "\n",
        "    for batch_idx, (images, labels) in enumerate(tqdm(train_loader, desc=f\"Training Epoch {epoch+1}\")):\n",
        "        images, labels = images.to(device), labels.to(device)\n",
        "\n",
        "        optimizer.zero_grad()\n",
        "        outputs = model(images)\n",
        "        loss = criterion(outputs, labels)\n",
        "        loss.backward()\n",
        "        optimizer.step()\n",
        "\n",
        "        running_loss += loss.item()\n",
        "        _, preds = outputs.max(1)\n",
        "        correct += (preds == labels).sum().item()\n",
        "        total += labels.size(0)\n",
        "\n",
        "        # Print progress every 100 batches\n",
        "        if batch_idx % 100 == 0:\n",
        "            current_acc = 100 * correct / total if total > 0 else 0\n",
        "            print(f\"  Batch {batch_idx}/{len(train_loader)} | Loss: {loss.item():.4f} | Acc: {current_acc:.2f}%\")\n",
        "\n",
        "    train_loss = running_loss / len(train_loader)\n",
        "    train_acc = 100 * correct / total\n",
        "    train_losses.append(train_loss)\n",
        "    train_accuracies.append(train_acc)\n",
        "\n",
        "    # Validation phase\n",
        "    print(f\"Epoch {epoch+1}/{EPOCHS} - Validating...\")\n",
        "    model.eval()\n",
        "    val_loss, correct, total = 0.0, 0, 0\n",
        "    epoch_val_preds, epoch_val_labels = [], []\n",
        "\n",
        "    with torch.no_grad():\n",
        "        for images, labels in tqdm(val_loader, desc=f\"Validation Epoch {epoch+1}\"):\n",
        "            images, labels = images.to(device), labels.to(device)\n",
        "            outputs = model(images)\n",
        "            loss = criterion(outputs, labels)\n",
        "\n",
        "            val_loss += loss.item()\n",
        "            _, preds = outputs.max(1)\n",
        "            correct += (preds == labels).sum().item()\n",
        "            total += labels.size(0)\n",
        "\n",
        "            epoch_val_preds.extend(preds.cpu().numpy())\n",
        "            epoch_val_labels.extend(labels.cpu().numpy())\n",
        "\n",
        "    val_loss /= len(val_loader)\n",
        "    val_acc = 100 * correct / total\n",
        "    val_losses.append(val_loss)\n",
        "    val_accuracies.append(val_acc)\n",
        "    all_val_preds_by_epoch.append(epoch_val_preds)\n",
        "    all_val_labels_by_epoch.append(epoch_val_labels)\n",
        "\n",
        "    epoch_time = time.time() - epoch_start\n",
        "    total_time = time.time() - start_time\n",
        "\n",
        "    print(f\"\\nEPOCH {epoch+1} COMPLETED:\")\n",
        "    print(f\"   Train Loss: {train_loss:.4f} | Train Acc: {train_acc:.2f}%\")\n",
        "    print(f\"   Val Loss:   {val_loss:.4f} | Val Acc:   {val_acc:.2f}%\")\n",
        "    print(f\"   Epoch Time: {epoch_time:.1f}s | Total Time: {total_time:.1f}s\")\n",
        "\n",
        "    # Save best model and early stopping logic\n",
        "    if val_loss < best_val_loss:\n",
        "        best_val_loss = val_loss\n",
        "        best_weights = model.state_dict().copy()\n",
        "        early_stop_counter = 0\n",
        "        print(f\"   NEW BEST MODEL! Val Loss improved to {val_loss:.4f}\")\n",
        "    else:\n",
        "        early_stop_counter += 1\n",
        "        print(f\"   No improvement. Early stop counter: {early_stop_counter}/{PATIENCE}\")\n",
        "        if early_stop_counter >= PATIENCE:\n",
        "            print(f\"\\nEARLY STOPPING triggered after {epoch+1} epochs\")\n",
        "            break\n",
        "\n",
        "total_training_time = time.time() - start_time\n",
        "\n",
        "# Load best weights and save model\n",
        "print(f\"\\nTRAINING COMPLETED!\")\n",
        "print(f\"Total training time: {total_training_time:.1f} seconds ({total_training_time/60:.1f} minutes)\")\n",
        "print(f\"Best validation loss: {best_val_loss:.4f}\")\n",
        "\n",
        "if best_weights is not None:\n",
        "    model.load_state_dict(best_weights)\n",
        "    torch.save(best_weights, \"best_glaucoma_model.pth\")\n",
        "    print(\"Best model weights saved to 'best_glaucoma_model.pth'\")\n",
        "else:\n",
        "    print(\"No best weights found - using final model state\")\n",
        "    torch.save(model.state_dict(), \"best_glaucoma_model.pth\")"
      ]
    },
    {
      "cell_type": "code",
      "execution_count": 6,
      "id": "04dabeed",
      "metadata": {
        "colab": {
          "base_uri": "https://localhost:8080/",
          "height": 629
        },
        "id": "04dabeed",
        "outputId": "68e3f8f8-8715-4c55-872f-8bacd57f064c"
      },
      "outputs": [
        {
          "output_type": "display_data",
          "data": {
            "text/plain": [
              "<Figure size 1500x500 with 4 Axes>"
            ],
            "image/png": "[encoded data removed]"
          },
          "metadata": {}
        },
        {
          "output_type": "stream",
          "name": "stdout",
          "text": [
            "\n",
            "Training Summary:\n",
            "Total epochs trained: 20\n",
            "Best validation loss: 0.3367 (Epoch 19)\n",
            "Best validation accuracy: 85.55% (Epoch 20)\n",
            "Final training accuracy: 85.85%\n",
            "Final validation accuracy: 85.55%\n"
          ]
        }
      ],
      "source": [
        "# Training Results Visualization\n",
        "epochs_range = range(1, len(train_losses) + 1)\n",
        "\n",
        "plt.figure(figsize=(15, 5))\n",
        "\n",
        "# Loss plot\n",
        "plt.subplot(1, 3, 1)\n",
        "plt.plot(epochs_range, train_losses, label=\"Train Loss\", color='blue')\n",
        "plt.plot(epochs_range, val_losses, label=\"Val Loss\", color='red')\n",
        "plt.xlabel(\"Epoch\")\n",
        "plt.ylabel(\"Loss\")\n",
        "plt.title(\"Loss Over Epochs\")\n",
        "plt.legend()\n",
        "plt.grid(True, alpha=0.3)\n",
        "\n",
        "# Accuracy plot\n",
        "plt.subplot(1, 3, 2)\n",
        "plt.plot(epochs_range, train_accuracies, label=\"Train Accuracy\", color='blue')\n",
        "plt.plot(epochs_range, val_accuracies, label=\"Val Accuracy\", color='red')\n",
        "plt.xlabel(\"Epoch\")\n",
        "plt.ylabel(\"Accuracy (%)\")\n",
        "plt.title(\"Accuracy Over Epochs\")\n",
        "plt.legend()\n",
        "plt.grid(True, alpha=0.3)\n",
        "\n",
        "# Confusion matrix from best epoch\n",
        "plt.subplot(1, 3, 3)\n",
        "if all_val_labels_by_epoch and all_val_preds_by_epoch:\n",
        "    # Find the epoch with best validation loss\n",
        "    best_epoch_idx = val_losses.index(min(val_losses))\n",
        "    cm = confusion_matrix(all_val_labels_by_epoch[best_epoch_idx], all_val_preds_by_epoch[best_epoch_idx])\n",
        "    disp = ConfusionMatrixDisplay(confusion_matrix=cm, display_labels=[\"Normal\", \"Glaucoma\"])\n",
        "    disp.plot(cmap=\"Blues\", values_format=\"d\", ax=plt.gca())\n",
        "    plt.title(f\"Validation Confusion Matrix (Best Epoch {best_epoch_idx+1})\")\n",
        "else:\n",
        "    plt.text(0.5, 0.5, 'No validation data available', ha='center', va='center')\n",
        "    plt.title(\"Confusion Matrix\")\n",
        "\n",
        "plt.tight_layout()\n",
        "plt.savefig(\"efficientnetv2_training_results.png\", dpi=300, bbox_inches='tight')\n",
        "plt.show()\n",
        "\n",
        "print(f\"\\nTraining Summary:\")\n",
        "print(f\"Total epochs trained: {len(train_losses)}\")\n",
        "print(f\"Best validation loss: {min(val_losses):.4f} (Epoch {val_losses.index(min(val_losses))+1})\")\n",
        "print(f\"Best validation accuracy: {max(val_accuracies):.2f}% (Epoch {val_accuracies.index(max(val_accuracies))+1})\")\n",
        "print(f\"Final training accuracy: {train_accuracies[-1]:.2f}%\")\n",
        "print(f\"Final validation accuracy: {val_accuracies[-1]:.2f}%\")"
      ]
    },
    {
      "cell_type": "code",
      "execution_count": 7,
      "id": "fd0564c4",
      "metadata": {
        "colab": {
          "base_uri": "https://localhost:8080/",
          "height": 488
        },
        "id": "fd0564c4",
        "outputId": "259f9c1c-6616-4642-9290-08c5beb98d79"
      },
      "outputs": [
        {
          "output_type": "display_data",
          "data": {
            "text/plain": [
              "<Figure size 1600x400 with 4 Axes>"
            ],
            "image/png": "[encoded data removed]"
          },
          "metadata": {}
        },
        {
          "output_type": "stream",
          "name": "stdout",
          "text": [
            "\n",
            "=== BEST VALIDATION METRICS ===\n",
            "Best Accuracy: 0.8555 (Epoch 20)\n",
            "Best Precision: 0.8548\n",
            "Best Recall: 0.8555\n",
            "Best F1-Score: 0.8551 (Epoch 20)\n"
          ]
        }
      ],
      "source": [
        "# Detailed Validation Metrics Analysis\n",
        "val_metrics = {\n",
        "    \"accuracy\": [],\n",
        "    \"precision\": [],\n",
        "    \"recall\": [],\n",
        "    \"f1_score\": []\n",
        "}\n",
        "\n",
        "# Compute metrics per epoch\n",
        "for preds, labels in zip(all_val_preds_by_epoch, all_val_labels_by_epoch):\n",
        "    val_metrics[\"accuracy\"].append(accuracy_score(labels, preds))\n",
        "    val_metrics[\"precision\"].append(precision_score(labels, preds, average='weighted', zero_division=0))\n",
        "    val_metrics[\"recall\"].append(recall_score(labels, preds, average='weighted', zero_division=0))\n",
        "    val_metrics[\"f1_score\"].append(f1_score(labels, preds, average='weighted', zero_division=0))\n",
        "\n",
        "# Plot validation metrics evolution\n",
        "plt.figure(figsize=(16, 4))\n",
        "\n",
        "plt.subplot(1, 4, 1)\n",
        "plt.plot(val_metrics[\"accuracy\"], label=\"Accuracy\", color='green', linewidth=2)\n",
        "plt.title(\"Validation Accuracy\")\n",
        "plt.xlabel(\"Epoch\")\n",
        "plt.ylabel(\"Accuracy\")\n",
        "plt.grid(True, alpha=0.3)\n",
        "plt.legend()\n",
        "\n",
        "plt.subplot(1, 4, 2)\n",
        "plt.plot(val_metrics[\"precision\"], label=\"Precision\", color='orange', linewidth=2)\n",
        "plt.title(\"Validation Precision\")\n",
        "plt.xlabel(\"Epoch\")\n",
        "plt.ylabel(\"Precision\")\n",
        "plt.grid(True, alpha=0.3)\n",
        "plt.legend()\n",
        "\n",
        "plt.subplot(1, 4, 3)\n",
        "plt.plot(val_metrics[\"recall\"], label=\"Recall\", color='purple', linewidth=2)\n",
        "plt.title(\"Validation Recall\")\n",
        "plt.xlabel(\"Epoch\")\n",
        "plt.ylabel(\"Recall\")\n",
        "plt.grid(True, alpha=0.3)\n",
        "plt.legend()\n",
        "\n",
        "plt.subplot(1, 4, 4)\n",
        "plt.plot(val_metrics[\"f1_score\"], label=\"F1 Score\", color='red', linewidth=2)\n",
        "plt.title(\"Validation F1 Score\")\n",
        "plt.xlabel(\"Epoch\")\n",
        "plt.ylabel(\"F1 Score\")\n",
        "plt.grid(True, alpha=0.3)\n",
        "plt.legend()\n",
        "\n",
        "plt.tight_layout()\n",
        "plt.savefig(\"efficientnetv2_validation_metrics.png\", dpi=300, bbox_inches='tight')\n",
        "plt.show()\n",
        "\n",
        "# Print best metrics\n",
        "best_acc_epoch = np.argmax(val_metrics[\"accuracy\"]) + 1\n",
        "best_f1_epoch = np.argmax(val_metrics[\"f1_score\"]) + 1\n",
        "\n",
        "print(f\"\\n=== BEST VALIDATION METRICS ===\")\n",
        "print(f\"Best Accuracy: {max(val_metrics['accuracy']):.4f} (Epoch {best_acc_epoch})\")\n",
        "print(f\"Best Precision: {max(val_metrics['precision']):.4f}\")\n",
        "print(f\"Best Recall: {max(val_metrics['recall']):.4f}\")\n",
        "print(f\"Best F1-Score: {max(val_metrics['f1_score']):.4f} (Epoch {best_f1_epoch})\")"
      ]
    },
    {
      "cell_type": "code",
      "execution_count": 8,
      "id": "9a88ae30",
      "metadata": {
        "colab": {
          "base_uri": "https://localhost:8080/",
          "height": 1000
        },
        "id": "9a88ae30",
        "outputId": "7fce3657-1954-4ed3-ae11-a299027640ca"
      },
      "outputs": [
        {
          "output_type": "stream",
          "name": "stdout",
          "text": [
            "============================================================\n",
            "COMPREHENSIVE TEST SET EVALUATION\n",
            "============================================================\n"
          ]
        },
        {
          "output_type": "stream",
          "name": "stderr",
          "text": [
            "Evaluating Test Set: 100%|██████████| 78/78 [00:12<00:00,  6.39it/s]\n"
          ]
        },
        {
          "output_type": "stream",
          "name": "stdout",
          "text": [
            "\n",
            "FINAL TEST SET RESULTS:\n",
            "========================================\n",
            "Test Accuracy:  0.8742 (87.42%)\n",
            "Test Precision: 0.8743\n",
            "Test Recall:    0.8742\n",
            "Test F1-Score:  0.8743\n",
            "\n",
            "PER-CLASS METRICS:\n",
            "========================================\n",
            "Normal:\n",
            "  Precision: 0.9015\n",
            "  Recall:    0.8992\n",
            "  F1-Score:  0.9004\n",
            "Glaucoma:\n",
            "  Precision: 0.8275\n",
            "  Recall:    0.8311\n",
            "  F1-Score:  0.8293\n",
            "\n",
            "DETAILED CLASSIFICATION REPORT:\n",
            "==================================================\n",
            "              precision    recall  f1-score   support\n",
            "\n",
            "      Normal       0.90      0.90      0.90       784\n",
            "    Glaucoma       0.83      0.83      0.83       456\n",
            "\n",
            "    accuracy                           0.87      1240\n",
            "   macro avg       0.86      0.87      0.86      1240\n",
            "weighted avg       0.87      0.87      0.87      1240\n",
            "\n"
          ]
        },
        {
          "output_type": "display_data",
          "data": {
            "text/plain": [
              "<Figure size 1000x800 with 6 Axes>"
            ],
            "image/png": "[encoded data removed]"
          },
          "metadata": {}
        },
        {
          "output_type": "error",
          "ename": "TypeError",
          "evalue": "Object of type int64 is not JSON serializable",
          "traceback": [
            "\u001b[0;31m---------------------------------------------------------------------------\u001b[0m",
            "\u001b[0;31mTypeError\u001b[0m                                 Traceback (most recent call last)",
            "\u001b[0;32m/tmp/ipython-input-8-3234107992.py\u001b[0m in \u001b[0;36m<cell line: 0>\u001b[0;34m()\u001b[0m\n\u001b[1;32m    114\u001b[0m \u001b[0;32mimport\u001b[0m \u001b[0mjson\u001b[0m\u001b[0;34m\u001b[0m\u001b[0;34m\u001b[0m\u001b[0m\n\u001b[1;32m    115\u001b[0m \u001b[0;32mwith\u001b[0m \u001b[0mopen\u001b[0m\u001b[0;34m(\u001b[0m\u001b[0;34m'test_results.json'\u001b[0m\u001b[0;34m,\u001b[0m \u001b[0;34m'w'\u001b[0m\u001b[0;34m)\u001b[0m \u001b[0;32mas\u001b[0m \u001b[0mf\u001b[0m\u001b[0;34m:\u001b[0m\u001b[0;34m\u001b[0m\u001b[0;34m\u001b[0m\u001b[0m\n\u001b[0;32m--> 116\u001b[0;31m     \u001b[0mjson\u001b[0m\u001b[0;34m.\u001b[0m\u001b[0mdump\u001b[0m\u001b[0;34m(\u001b[0m\u001b[0;34m{\u001b[0m\u001b[0mk\u001b[0m\u001b[0;34m:\u001b[0m \u001b[0mv\u001b[0m \u001b[0;32mfor\u001b[0m \u001b[0mk\u001b[0m\u001b[0;34m,\u001b[0m \u001b[0mv\u001b[0m \u001b[0;32min\u001b[0m \u001b[0mtest_results\u001b[0m\u001b[0;34m.\u001b[0m\u001b[0mitems\u001b[0m\u001b[0;34m(\u001b[0m\u001b[0;34m)\u001b[0m \u001b[0;32mif\u001b[0m \u001b[0mk\u001b[0m \u001b[0;32mnot\u001b[0m \u001b[0;32min\u001b[0m \u001b[0;34m[\u001b[0m\u001b[0;34m'test_probabilities'\u001b[0m\u001b[0;34m]\u001b[0m\u001b[0;34m}\u001b[0m\u001b[0;34m,\u001b[0m \u001b[0mf\u001b[0m\u001b[0;34m,\u001b[0m \u001b[0mindent\u001b[0m\u001b[0;34m=\u001b[0m\u001b[0;36m2\u001b[0m\u001b[0;34m)\u001b[0m\u001b[0;34m\u001b[0m\u001b[0;34m\u001b[0m\u001b[0m\n\u001b[0m\u001b[1;32m    117\u001b[0m \u001b[0;34m\u001b[0m\u001b[0m\n\u001b[1;32m    118\u001b[0m \u001b[0mprint\u001b[0m\u001b[0;34m(\u001b[0m\u001b[0;34mf\"\\nTest results saved to 'test_results.json'\"\u001b[0m\u001b[0;34m)\u001b[0m\u001b[0;34m\u001b[0m\u001b[0;34m\u001b[0m\u001b[0m\n",
            "\u001b[0;32m/usr/lib/python3.11/json/__init__.py\u001b[0m in \u001b[0;36mdump\u001b[0;34m(obj, fp, skipkeys, ensure_ascii, check_circular, allow_nan, cls, indent, separators, default, sort_keys, **kw)\u001b[0m\n\u001b[1;32m    177\u001b[0m     \u001b[0;31m# could accelerate with writelines in some versions of Python, at\u001b[0m\u001b[0;34m\u001b[0m\u001b[0;34m\u001b[0m\u001b[0m\n\u001b[1;32m    178\u001b[0m     \u001b[0;31m# a debuggability cost\u001b[0m\u001b[0;34m\u001b[0m\u001b[0;34m\u001b[0m\u001b[0m\n\u001b[0;32m--> 179\u001b[0;31m     \u001b[0;32mfor\u001b[0m \u001b[0mchunk\u001b[0m \u001b[0;32min\u001b[0m \u001b[0miterable\u001b[0m\u001b[0;34m:\u001b[0m\u001b[0;34m\u001b[0m\u001b[0;34m\u001b[0m\u001b[0m\n\u001b[0m\u001b[1;32m    180\u001b[0m         \u001b[0mfp\u001b[0m\u001b[0;34m.\u001b[0m\u001b[0mwrite\u001b[0m\u001b[0;34m(\u001b[0m\u001b[0mchunk\u001b[0m\u001b[0;34m)\u001b[0m\u001b[0;34m\u001b[0m\u001b[0;34m\u001b[0m\u001b[0m\n\u001b[1;32m    181\u001b[0m \u001b[0;34m\u001b[0m\u001b[0m\n",
            "\u001b[0;32m/usr/lib/python3.11/json/encoder.py\u001b[0m in \u001b[0;36m_iterencode\u001b[0;34m(o, _current_indent_level)\u001b[0m\n\u001b[1;32m    430\u001b[0m             \u001b[0;32myield\u001b[0m \u001b[0;32mfrom\u001b[0m \u001b[0m_iterencode_list\u001b[0m\u001b[0;34m(\u001b[0m\u001b[0mo\u001b[0m\u001b[0;34m,\u001b[0m \u001b[0m_current_indent_level\u001b[0m\u001b[0;34m)\u001b[0m\u001b[0;34m\u001b[0m\u001b[0;34m\u001b[0m\u001b[0m\n\u001b[1;32m    431\u001b[0m         \u001b[0;32melif\u001b[0m \u001b[0misinstance\u001b[0m\u001b[0;34m(\u001b[0m\u001b[0mo\u001b[0m\u001b[0;34m,\u001b[0m \u001b[0mdict\u001b[0m\u001b[0;34m)\u001b[0m\u001b[0;34m:\u001b[0m\u001b[0;34m\u001b[0m\u001b[0;34m\u001b[0m\u001b[0m\n\u001b[0;32m--> 432\u001b[0;31m             \u001b[0;32myield\u001b[0m \u001b[0;32mfrom\u001b[0m \u001b[0m_iterencode_dict\u001b[0m\u001b[0;34m(\u001b[0m\u001b[0mo\u001b[0m\u001b[0;34m,\u001b[0m \u001b[0m_current_indent_level\u001b[0m\u001b[0;34m)\u001b[0m\u001b[0;34m\u001b[0m\u001b[0;34m\u001b[0m\u001b[0m\n\u001b[0m\u001b[1;32m    433\u001b[0m         \u001b[0;32melse\u001b[0m\u001b[0;34m:\u001b[0m\u001b[0;34m\u001b[0m\u001b[0;34m\u001b[0m\u001b[0m\n\u001b[1;32m    434\u001b[0m             \u001b[0;32mif\u001b[0m \u001b[0mmarkers\u001b[0m \u001b[0;32mis\u001b[0m \u001b[0;32mnot\u001b[0m \u001b[0;32mNone\u001b[0m\u001b[0;34m:\u001b[0m\u001b[0;34m\u001b[0m\u001b[0;34m\u001b[0m\u001b[0m\n",
            "\u001b[0;32m/usr/lib/python3.11/json/encoder.py\u001b[0m in \u001b[0;36m_iterencode_dict\u001b[0;34m(dct, _current_indent_level)\u001b[0m\n\u001b[1;32m    404\u001b[0m                 \u001b[0;32melse\u001b[0m\u001b[0;34m:\u001b[0m\u001b[0;34m\u001b[0m\u001b[0;34m\u001b[0m\u001b[0m\n\u001b[1;32m    405\u001b[0m                     \u001b[0mchunks\u001b[0m \u001b[0;34m=\u001b[0m \u001b[0m_iterencode\u001b[0m\u001b[0;34m(\u001b[0m\u001b[0mvalue\u001b[0m\u001b[0;34m,\u001b[0m \u001b[0m_current_indent_level\u001b[0m\u001b[0;34m)\u001b[0m\u001b[0;34m\u001b[0m\u001b[0;34m\u001b[0m\u001b[0m\n\u001b[0;32m--> 406\u001b[0;31m                 \u001b[0;32myield\u001b[0m \u001b[0;32mfrom\u001b[0m \u001b[0mchunks\u001b[0m\u001b[0;34m\u001b[0m\u001b[0;34m\u001b[0m\u001b[0m\n\u001b[0m\u001b[1;32m    407\u001b[0m         \u001b[0;32mif\u001b[0m \u001b[0mnewline_indent\u001b[0m \u001b[0;32mis\u001b[0m \u001b[0;32mnot\u001b[0m \u001b[0;32mNone\u001b[0m\u001b[0;34m:\u001b[0m\u001b[0;34m\u001b[0m\u001b[0;34m\u001b[0m\u001b[0m\n\u001b[1;32m    408\u001b[0m             \u001b[0m_current_indent_level\u001b[0m \u001b[0;34m-=\u001b[0m \u001b[0;36m1\u001b[0m\u001b[0;34m\u001b[0m\u001b[0;34m\u001b[0m\u001b[0m\n",
            "\u001b[0;32m/usr/lib/python3.11/json/encoder.py\u001b[0m in \u001b[0;36m_iterencode_list\u001b[0;34m(lst, _current_indent_level)\u001b[0m\n\u001b[1;32m    324\u001b[0m                 \u001b[0;32melse\u001b[0m\u001b[0;34m:\u001b[0m\u001b[0;34m\u001b[0m\u001b[0;34m\u001b[0m\u001b[0m\n\u001b[1;32m    325\u001b[0m                     \u001b[0mchunks\u001b[0m \u001b[0;34m=\u001b[0m \u001b[0m_iterencode\u001b[0m\u001b[0;34m(\u001b[0m\u001b[0mvalue\u001b[0m\u001b[0;34m,\u001b[0m \u001b[0m_current_indent_level\u001b[0m\u001b[0;34m)\u001b[0m\u001b[0;34m\u001b[0m\u001b[0;34m\u001b[0m\u001b[0m\n\u001b[0;32m--> 326\u001b[0;31m                 \u001b[0;32myield\u001b[0m \u001b[0;32mfrom\u001b[0m \u001b[0mchunks\u001b[0m\u001b[0;34m\u001b[0m\u001b[0;34m\u001b[0m\u001b[0m\n\u001b[0m\u001b[1;32m    327\u001b[0m         \u001b[0;32mif\u001b[0m \u001b[0mnewline_indent\u001b[0m \u001b[0;32mis\u001b[0m \u001b[0;32mnot\u001b[0m \u001b[0;32mNone\u001b[0m\u001b[0;34m:\u001b[0m\u001b[0;34m\u001b[0m\u001b[0;34m\u001b[0m\u001b[0m\n\u001b[1;32m    328\u001b[0m             \u001b[0m_current_indent_level\u001b[0m \u001b[0;34m-=\u001b[0m \u001b[0;36m1\u001b[0m\u001b[0;34m\u001b[0m\u001b[0;34m\u001b[0m\u001b[0m\n",
            "\u001b[0;32m/usr/lib/python3.11/json/encoder.py\u001b[0m in \u001b[0;36m_iterencode\u001b[0;34m(o, _current_indent_level)\u001b[0m\n\u001b[1;32m    437\u001b[0m                     \u001b[0;32mraise\u001b[0m \u001b[0mValueError\u001b[0m\u001b[0;34m(\u001b[0m\u001b[0;34m\"Circular reference detected\"\u001b[0m\u001b[0;34m)\u001b[0m\u001b[0;34m\u001b[0m\u001b[0;34m\u001b[0m\u001b[0m\n\u001b[1;32m    438\u001b[0m                 \u001b[0mmarkers\u001b[0m\u001b[0;34m[\u001b[0m\u001b[0mmarkerid\u001b[0m\u001b[0;34m]\u001b[0m \u001b[0;34m=\u001b[0m \u001b[0mo\u001b[0m\u001b[0;34m\u001b[0m\u001b[0;34m\u001b[0m\u001b[0m\n\u001b[0;32m--> 439\u001b[0;31m             \u001b[0mo\u001b[0m \u001b[0;34m=\u001b[0m \u001b[0m_default\u001b[0m\u001b[0;34m(\u001b[0m\u001b[0mo\u001b[0m\u001b[0;34m)\u001b[0m\u001b[0;34m\u001b[0m\u001b[0;34m\u001b[0m\u001b[0m\n\u001b[0m\u001b[1;32m    440\u001b[0m             \u001b[0;32myield\u001b[0m \u001b[0;32mfrom\u001b[0m \u001b[0m_iterencode\u001b[0m\u001b[0;34m(\u001b[0m\u001b[0mo\u001b[0m\u001b[0;34m,\u001b[0m \u001b[0m_current_indent_level\u001b[0m\u001b[0;34m)\u001b[0m\u001b[0;34m\u001b[0m\u001b[0;34m\u001b[0m\u001b[0m\n\u001b[1;32m    441\u001b[0m             \u001b[0;32mif\u001b[0m \u001b[0mmarkers\u001b[0m \u001b[0;32mis\u001b[0m \u001b[0;32mnot\u001b[0m \u001b[0;32mNone\u001b[0m\u001b[0;34m:\u001b[0m\u001b[0;34m\u001b[0m\u001b[0;34m\u001b[0m\u001b[0m\n",
            "\u001b[0;32m/usr/lib/python3.11/json/encoder.py\u001b[0m in \u001b[0;36mdefault\u001b[0;34m(self, o)\u001b[0m\n\u001b[1;32m    178\u001b[0m \u001b[0;34m\u001b[0m\u001b[0m\n\u001b[1;32m    179\u001b[0m         \"\"\"\n\u001b[0;32m--> 180\u001b[0;31m         raise TypeError(f'Object of type {o.__class__.__name__} '\n\u001b[0m\u001b[1;32m    181\u001b[0m                         f'is not JSON serializable')\n\u001b[1;32m    182\u001b[0m \u001b[0;34m\u001b[0m\u001b[0m\n",
            "\u001b[0;31mTypeError\u001b[0m: Object of type int64 is not JSON serializable"
          ]
        }
      ],
      "source": [
        "# Comprehensive Test Set Evaluation\n",
        "print(\"=\"*60)\n",
        "print(\"COMPREHENSIVE TEST SET EVALUATION\")\n",
        "print(\"=\"*60)\n",
        "\n",
        "# Ensure we're using the best model\n",
        "model.eval()\n",
        "\n",
        "# Test set evaluation\n",
        "test_correct, test_total = 0, 0\n",
        "test_preds, test_labels = [], []\n",
        "test_probs = []\n",
        "\n",
        "with torch.no_grad():\n",
        "    for images, labels in tqdm(test_loader, desc=\"Evaluating Test Set\"):\n",
        "        images, labels = images.to(device), labels.to(device)\n",
        "        outputs = model(images)\n",
        "\n",
        "        # Get probabilities for more detailed analysis\n",
        "        probs = torch.softmax(outputs, dim=1)\n",
        "        test_probs.extend(probs.cpu().numpy())\n",
        "\n",
        "        _, preds = outputs.max(1)\n",
        "        test_correct += (preds == labels).sum().item()\n",
        "        test_total += labels.size(0)\n",
        "\n",
        "        test_preds.extend(preds.cpu().numpy())\n",
        "        test_labels.extend(labels.cpu().numpy())\n",
        "\n",
        "test_acc = 100 * test_correct / test_total\n",
        "\n",
        "# Calculate comprehensive test metrics\n",
        "test_accuracy = accuracy_score(test_labels, test_preds)\n",
        "test_precision = precision_score(test_labels, test_preds, average='weighted')\n",
        "test_recall = recall_score(test_labels, test_preds, average='weighted')\n",
        "test_f1 = f1_score(test_labels, test_preds, average='weighted')\n",
        "\n",
        "# Per-class metrics\n",
        "test_precision_per_class = precision_score(test_labels, test_preds, average=None)\n",
        "test_recall_per_class = recall_score(test_labels, test_preds, average=None)\n",
        "test_f1_per_class = f1_score(test_labels, test_preds, average=None)\n",
        "\n",
        "print(f\"\\nFINAL TEST SET RESULTS:\")\n",
        "print(f\"{'='*40}\")\n",
        "print(f\"Test Accuracy:  {test_accuracy:.4f} ({test_acc:.2f}%)\")\n",
        "print(f\"Test Precision: {test_precision:.4f}\")\n",
        "print(f\"Test Recall:    {test_recall:.4f}\")\n",
        "print(f\"Test F1-Score:  {test_f1:.4f}\")\n",
        "\n",
        "print(f\"\\nPER-CLASS METRICS:\")\n",
        "print(f\"{'='*40}\")\n",
        "class_names = [\"Normal\", \"Glaucoma\"]\n",
        "for i, class_name in enumerate(class_names):\n",
        "    print(f\"{class_name}:\")\n",
        "    print(f\"  Precision: {test_precision_per_class[i]:.4f}\")\n",
        "    print(f\"  Recall:    {test_recall_per_class[i]:.4f}\")\n",
        "    print(f\"  F1-Score:  {test_f1_per_class[i]:.4f}\")\n",
        "\n",
        "print(f\"\\nDETAILED CLASSIFICATION REPORT:\")\n",
        "print(f\"{'='*50}\")\n",
        "print(classification_report(test_labels, test_preds, target_names=class_names))\n",
        "\n",
        "# Test confusion matrix with enhanced visualization\n",
        "plt.figure(figsize=(10, 8))\n",
        "\n",
        "plt.subplot(2, 2, 1)\n",
        "cm_test = confusion_matrix(test_labels, test_preds)\n",
        "disp_test = ConfusionMatrixDisplay(confusion_matrix=cm_test, display_labels=class_names)\n",
        "disp_test.plot(cmap=\"Blues\", values_format=\"d\", ax=plt.gca())\n",
        "plt.title(\"Test Set Confusion Matrix\")\n",
        "\n",
        "# Normalized confusion matrix\n",
        "plt.subplot(2, 2, 2)\n",
        "cm_norm = confusion_matrix(test_labels, test_preds, normalize='true')\n",
        "disp_norm = ConfusionMatrixDisplay(confusion_matrix=cm_norm, display_labels=class_names)\n",
        "disp_norm.plot(cmap=\"Blues\", values_format=\".2f\", ax=plt.gca())\n",
        "plt.title(\"Normalized Confusion Matrix\")\n",
        "\n",
        "# Prediction confidence distribution\n",
        "plt.subplot(2, 2, 3)\n",
        "test_probs = np.array(test_probs)\n",
        "confidence_scores = np.max(test_probs, axis=1)\n",
        "plt.hist(confidence_scores, bins=20, alpha=0.7, color='skyblue', edgecolor='black')\n",
        "plt.title(\"Prediction Confidence Distribution\")\n",
        "plt.xlabel(\"Confidence Score\")\n",
        "plt.ylabel(\"Count\")\n",
        "plt.grid(True, alpha=0.3)\n",
        "\n",
        "# Class distribution in test set\n",
        "plt.subplot(2, 2, 4)\n",
        "unique, counts = np.unique(test_labels, return_counts=True)\n",
        "plt.bar([class_names[i] for i in unique], counts, color=['lightcoral', 'lightblue'])\n",
        "plt.title(\"Test Set Class Distribution\")\n",
        "plt.ylabel(\"Count\")\n",
        "for i, count in enumerate(counts):\n",
        "    plt.text(i, count + 0.5, str(count), ha='center')\n",
        "\n",
        "plt.tight_layout()\n",
        "plt.savefig(\"efficientnetv2_test_results.png\", dpi=300, bbox_inches='tight')\n",
        "plt.show()\n",
        "\n",
        "# Save test results\n",
        "test_results = {\n",
        "    'test_accuracy': test_accuracy,\n",
        "    'test_precision': test_precision,\n",
        "    'test_recall': test_recall,\n",
        "    'test_f1': test_f1,\n",
        "    'test_predictions': test_preds,\n",
        "    'test_labels': test_labels,\n",
        "    'test_probabilities': test_probs.tolist()\n",
        "}\n",
        "\n",
        "# Save to file\n",
        "import json\n",
        "with open('test_results.json', 'w') as f:\n",
        "    json.dump({k: v for k, v in test_results.items() if k not in ['test_probabilities']}, f, indent=2)\n",
        "\n",
        "print(f\"\\nTest results saved to 'test_results.json'\")\n",
        "print(f\"EfficientNetV2 evaluation completed successfully!\")"
      ]
    },
    {
      "cell_type": "code",
      "execution_count": null,
      "id": "5ae3ff6c",
      "metadata": {
        "id": "5ae3ff6c"
      },
      "outputs": [],
      "source": [
        "# Final Performance Summary and Model Comparison\n",
        "print(\"=\"*70)\n",
        "print(\"EFFICIENTNETV2 FINAL PERFORMANCE SUMMARY\")\n",
        "print(\"=\"*70)\n",
        "\n",
        "# Get final training metrics (last epoch)\n",
        "final_train_acc = train_accuracies[-1]\n",
        "final_val_acc = val_accuracies[-1]\n",
        "\n",
        "# Get final validation metrics\n",
        "final_val_accuracy = val_metrics[\"accuracy\"][-1]\n",
        "final_val_precision = val_metrics[\"precision\"][-1]\n",
        "final_val_recall = val_metrics[\"recall\"][-1]\n",
        "final_val_f1 = val_metrics[\"f1_score\"][-1]\n",
        "\n",
        "# Create comprehensive summary table\n",
        "summary_data = {\n",
        "    'Dataset': ['Training', 'Validation', 'Test'],\n",
        "    'Accuracy': [final_train_acc/100, final_val_accuracy, test_accuracy],\n",
        "    'Precision': ['-', final_val_precision, test_precision],\n",
        "    'Recall': ['-', final_val_recall, test_recall],\n",
        "    'F1-Score': ['-', final_val_f1, test_f1]\n",
        "}\n",
        "\n",
        "summary_df = pd.DataFrame(summary_data)\n",
        "print(\"\\nPERFORMANCE SUMMARY:\")\n",
        "print(\"=\"*50)\n",
        "\n",
        "# Custom formatted table\n",
        "print(f\"{'Dataset':<12} {'Accuracy':<10} {'Precision':<11} {'Recall':<10} {'F1-Score':<10}\")\n",
        "print(\"-\" * 55)\n",
        "for idx, row in summary_df.iterrows():\n",
        "    dataset = row['Dataset']\n",
        "    accuracy = f\"{row['Accuracy']:.4f}\" if isinstance(row['Accuracy'], (int, float)) else row['Accuracy']\n",
        "    precision = f\"{row['Precision']:.4f}\" if isinstance(row['Precision'], (int, float)) else row['Precision']\n",
        "    recall = f\"{row['Recall']:.4f}\" if isinstance(row['Recall'], (int, float)) else row['Recall']\n",
        "    f1_score = f\"{row['F1-Score']:.4f}\" if isinstance(row['F1-Score'], (int, float)) else row['F1-Score']\n",
        "    print(f\"{dataset:<12} {accuracy:<10} {precision:<11} {recall:<10} {f1_score:<10}\")\n",
        "\n",
        "# Save comprehensive summary\n",
        "summary_df.to_csv('efficientnetv2_performance_summary.csv', index=False)\n",
        "print(f\"\\nPerformance summary saved to 'efficientnetv2_performance_summary.csv'\")\n",
        "\n",
        "# Enhanced visualization comparing all splits\n",
        "plt.figure(figsize=(15, 5))\n",
        "\n",
        "# Accuracy comparison across all splits\n",
        "plt.subplot(1, 3, 1)\n",
        "datasets = ['Train', 'Val', 'Test']\n",
        "accuracies = [final_train_acc/100, final_val_accuracy, test_accuracy]\n",
        "colors = ['skyblue', 'lightgreen', 'salmon']\n",
        "bars1 = plt.bar(datasets, accuracies, color=colors, alpha=0.8, edgecolor='black')\n",
        "plt.title('Final Accuracy Comparison', fontsize=12, fontweight='bold')\n",
        "plt.ylabel('Accuracy')\n",
        "plt.ylim(0, 1)\n",
        "for i, v in enumerate(accuracies):\n",
        "    plt.text(i, v + 0.01, f'{v:.3f}', ha='center', fontweight='bold')\n",
        "plt.grid(True, alpha=0.3)\n",
        "\n",
        "# Precision comparison (Val vs Test)\n",
        "plt.subplot(1, 3, 2)\n",
        "precision_vals = [final_val_precision, test_precision]\n",
        "bars2 = plt.bar(['Val', 'Test'], precision_vals, color=['lightgreen', 'salmon'], alpha=0.8, edgecolor='black')\n",
        "plt.title('Precision Comparison', fontsize=12, fontweight='bold')\n",
        "plt.ylabel('Precision')\n",
        "plt.ylim(0, 1)\n",
        "for i, v in enumerate(precision_vals):\n",
        "    plt.text(i, v + 0.01, f'{v:.3f}', ha='center', fontweight='bold')\n",
        "plt.grid(True, alpha=0.3)\n",
        "\n",
        "# F1-Score comparison (Val vs Test)\n",
        "plt.subplot(1, 3, 3)\n",
        "f1_vals = [final_val_f1, test_f1]\n",
        "bars3 = plt.bar(['Val', 'Test'], f1_vals, color=['lightgreen', 'salmon'], alpha=0.8, edgecolor='black')\n",
        "plt.title('F1-Score Comparison', fontsize=12, fontweight='bold')\n",
        "plt.ylabel('F1-Score')\n",
        "plt.ylim(0, 1)\n",
        "for i, v in enumerate(f1_vals):\n",
        "    plt.text(i, v + 0.01, f'{v:.3f}', ha='center', fontweight='bold')\n",
        "plt.grid(True, alpha=0.3)\n",
        "\n",
        "plt.tight_layout()\n",
        "plt.savefig('efficientnetv2_final_comparison.png', dpi=300, bbox_inches='tight')\n",
        "plt.show()\n",
        "\n",
        "# Model performance highlights\n",
        "print(f\"\\nMODEL PERFORMANCE HIGHLIGHTS:\")\n",
        "print(\"=\"*45)\n",
        "print(f\"Best Test Accuracy:     {test_accuracy:.4f} ({test_acc:.2f}%)\")\n",
        "print(f\"Best Test F1-Score:     {test_f1:.4f}\")\n",
        "print(f\"Training Epochs:        {len(train_losses)}\")\n",
        "print(f\"Early Stopping:         {'Yes' if len(train_losses) < EPOCHS else 'No'}\")\n",
        "print(f\"Best Val Loss:          {min(val_losses):.4f}\")\n",
        "print(f\"Val-Test Accuracy Gap:  {abs(final_val_accuracy - test_accuracy):.4f}\")\n",
        "\n",
        "# Overfitting analysis\n",
        "overfitting_gap = final_train_acc/100 - test_accuracy\n",
        "print(f\"Train-Test Gap:         {overfitting_gap:.4f} ({'Overfitting' if overfitting_gap > 0.1 else 'Good Generalization'})\")\n",
        "\n",
        "print(f\"\\nEfficientNetV2 training and evaluation completed successfully!\")\n",
        "print(f\"  This model is optimized for maximum performance with:\")\n",
        "print(f\"   • Enhanced data augmentation\")\n",
        "print(f\"   • Larger input resolution (288x288)\")\n",
        "print(f\"   • Advanced EfficientNetV2 architecture\")\n",
        "print(f\"   • Learning rate scheduling\")\n",
        "print(f\"   • Comprehensive evaluation metrics\")\n",
        "print(\"=\"*70)"
      ]
    },
    {
      "cell_type": "code",
      "execution_count": null,
      "id": "c7bcee94",
      "metadata": {
        "id": "c7bcee94"
      },
      "outputs": [],
      "source": [
        "# Cross-Model Test Evaluation\n",
        "# Test EfficientNetV2 against the same test images used by other models\n",
        "print(\"=\"*70)\n",
        "print(\"CROSS-MODEL TEST EVALUATION\")\n",
        "print(\"Testing EfficientNetV2 against test sets from other models\")\n",
        "print(\"=\"*70)\n",
        "\n",
        "# Define paths to other model test splits\n",
        "other_model_paths = [\n",
        "    \"../EfficientNet/test_split.csv\",\n",
        "    \"../MobileNetV3-Large/test_split.csv\",\n",
        "    \"../ResNet50/test_split.csv\"\n",
        "]\n",
        "\n",
        "model_names = [\"EfficientNet\", \"MobileNetV3-Large\", \"ResNet50\"]\n",
        "cross_test_results = {}\n",
        "\n",
        "for model_name, csv_path in zip(model_names, other_model_paths):\n",
        "    if os.path.exists(csv_path):\n",
        "        print(f\"\\nTesting against {model_name} test set...\")\n",
        "\n",
        "        # Load the test split from other model\n",
        "        other_test_df = pd.read_csv(csv_path)\n",
        "        print(f\"Loaded {len(other_test_df)} test images from {model_name}\")\n",
        "\n",
        "        # Convert to our format\n",
        "        other_test_list = [(row['image_path'], row['label']) for _, row in other_test_df.iterrows()]\n",
        "\n",
        "        # Create dataset and loader\n",
        "        other_test_dataset = GlaucomaDataset(other_test_list, transform=val_transform)\n",
        "        other_test_loader = DataLoader(other_test_dataset, batch_size=BATCH_SIZE, shuffle=False)\n",
        "\n",
        "        # Evaluate on this test set\n",
        "        model.eval()\n",
        "        correct, total = 0, 0\n",
        "        preds, labels = [], []\n",
        "\n",
        "        with torch.no_grad():\n",
        "            for images, batch_labels in tqdm(other_test_loader, desc=f\"Testing on {model_name} data\"):\n",
        "                images, batch_labels = images.to(device), batch_labels.to(device)\n",
        "                outputs = model(images)\n",
        "                _, batch_preds = outputs.max(1)\n",
        "\n",
        "                correct += (batch_preds == batch_labels).sum().item()\n",
        "                total += batch_labels.size(0)\n",
        "\n",
        "                preds.extend(batch_preds.cpu().numpy())\n",
        "                labels.extend(batch_labels.cpu().numpy())\n",
        "\n",
        "        # Calculate metrics\n",
        "        accuracy = accuracy_score(labels, preds)\n",
        "        precision = precision_score(labels, preds, average='weighted')\n",
        "        recall = recall_score(labels, preds, average='weighted')\n",
        "        f1 = f1_score(labels, preds, average='weighted')\n",
        "\n",
        "        cross_test_results[model_name] = {\n",
        "            'accuracy': accuracy,\n",
        "            'precision': precision,\n",
        "            'recall': recall,\n",
        "            'f1_score': f1,\n",
        "            'total_samples': total\n",
        "        }\n",
        "\n",
        "        print(f\"{model_name} Test Results:\")\n",
        "        print(f\"   Accuracy:  {accuracy:.4f} ({100*accuracy:.2f}%)\")\n",
        "        print(f\"   Precision: {precision:.4f}\")\n",
        "        print(f\"   Recall:    {recall:.4f}\")\n",
        "        print(f\"   F1-Score:  {f1:.4f}\")\n",
        "        print(f\"   Samples:   {total}\")\n",
        "\n",
        "    else:\n",
        "        print(f\"Test file not found for {model_name}: {csv_path}\")\n",
        "\n",
        "# Summary of cross-model testing\n",
        "if cross_test_results:\n",
        "    print(f\"\\nCROSS-MODEL PERFORMANCE SUMMARY:\")\n",
        "    print(\"=\"*60)\n",
        "    print(f\"{'Model':<15} {'Accuracy':<10} {'Precision':<11} {'Recall':<10} {'F1-Score':<10} {'Samples':<8}\")\n",
        "    print(\"-\" * 65)\n",
        "\n",
        "    # Add our own test results\n",
        "    cross_test_results['EfficientNetV2'] = {\n",
        "        'accuracy': test_accuracy,\n",
        "        'precision': test_precision,\n",
        "        'recall': test_recall,\n",
        "        'f1_score': test_f1,\n",
        "        'total_samples': len(test_labels)\n",
        "    }\n",
        "\n",
        "    for model, results in cross_test_results.items():\n",
        "        print(f\"{model:<15} {results['accuracy']:<10.4f} {results['precision']:<11.4f} \"\n",
        "              f\"{results['recall']:<10.4f} {results['f1_score']:<10.4f} {results['total_samples']:<8}\")\n",
        "\n",
        "    # Visualization of cross-model performance\n",
        "    plt.figure(figsize=(14, 8))\n",
        "\n",
        "    models = list(cross_test_results.keys())\n",
        "    accuracies = [cross_test_results[m]['accuracy'] for m in models]\n",
        "    f1_scores = [cross_test_results[m]['f1_score'] for m in models]\n",
        "\n",
        "    # Accuracy comparison\n",
        "    plt.subplot(2, 2, 1)\n",
        "    bars = plt.bar(models, accuracies, color=['lightblue', 'lightgreen', 'lightcoral', 'gold'])\n",
        "    plt.title('Cross-Model Test Accuracy Comparison', fontweight='bold')\n",
        "    plt.ylabel('Accuracy')\n",
        "    plt.xticks(rotation=45)\n",
        "    for i, v in enumerate(accuracies):\n",
        "        plt.text(i, v + 0.005, f'{v:.3f}', ha='center', fontweight='bold')\n",
        "    plt.grid(True, alpha=0.3)\n",
        "\n",
        "    # F1-Score comparison\n",
        "    plt.subplot(2, 2, 2)\n",
        "    bars = plt.bar(models, f1_scores, color=['lightblue', 'lightgreen', 'lightcoral', 'gold'])\n",
        "    plt.title('Cross-Model Test F1-Score Comparison', fontweight='bold')\n",
        "    plt.ylabel('F1-Score')\n",
        "    plt.xticks(rotation=45)\n",
        "    for i, v in enumerate(f1_scores):\n",
        "        plt.text(i, v + 0.005, f'{v:.3f}', ha='center', fontweight='bold')\n",
        "    plt.grid(True, alpha=0.3)\n",
        "\n",
        "    # Performance consistency (std dev of metrics)\n",
        "    plt.subplot(2, 2, 3)\n",
        "    metrics = ['Accuracy', 'Precision', 'Recall', 'F1-Score']\n",
        "    metric_keys = ['accuracy', 'precision', 'recall', 'f1_score']\n",
        "    std_devs = []\n",
        "\n",
        "    for key in metric_keys:\n",
        "        values = [cross_test_results[m][key] for m in models]\n",
        "        std_devs.append(np.std(values))\n",
        "\n",
        "    bars = plt.bar(metrics, std_devs, color='orange', alpha=0.7)\n",
        "    plt.title('EfficientNetV2 Performance Consistency\\n(Lower = More Consistent)', fontweight='bold')\n",
        "    plt.ylabel('Standard Deviation')\n",
        "    plt.xticks(rotation=45)\n",
        "    for i, v in enumerate(std_devs):\n",
        "        plt.text(i, v + 0.0005, f'{v:.4f}', ha='center', fontweight='bold')\n",
        "    plt.grid(True, alpha=0.3)\n",
        "\n",
        "    # Sample size comparison\n",
        "    plt.subplot(2, 2, 4)\n",
        "    sample_sizes = [cross_test_results[m]['total_samples'] for m in models]\n",
        "    bars = plt.bar(models, sample_sizes, color='purple', alpha=0.7)\n",
        "    plt.title('Test Set Sizes', fontweight='bold')\n",
        "    plt.ylabel('Number of Samples')\n",
        "    plt.xticks(rotation=45)\n",
        "    for i, v in enumerate(sample_sizes):\n",
        "        plt.text(i, v + 1, str(v), ha='center', fontweight='bold')\n",
        "\n",
        "    plt.tight_layout()\n",
        "    plt.savefig('efficientnetv2_cross_model_comparison.png', dpi=300, bbox_inches='tight')\n",
        "    plt.show()\n",
        "\n",
        "    # Save cross-model results\n",
        "    with open('cross_model_test_results.json', 'w') as f:\n",
        "        json.dump(cross_test_results, f, indent=2)\n",
        "\n",
        "    print(f\"\\nCross-model results saved to 'cross_model_test_results.json'\")\n",
        "\n",
        "    # Final performance ranking\n",
        "    avg_accuracy = np.mean(accuracies)\n",
        "    avg_f1 = np.mean(f1_scores)\n",
        "    consistency = 1 - np.mean(std_devs)  # Higher is better\n",
        "\n",
        "    print(f\"\\nEFFICIENTNETV2 OVERALL PERFORMANCE:\")\n",
        "    print(\"=\"*50)\n",
        "    print(f\"Average Test Accuracy:    {avg_accuracy:.4f}\")\n",
        "    print(f\"Average Test F1-Score:    {avg_f1:.4f}\")\n",
        "    print(f\"Performance Consistency:  {consistency:.4f}\")\n",
        "    print(f\"Best Individual Test:     {max(accuracies):.4f}\")\n",
        "    print(f\"Worst Individual Test:    {min(accuracies):.4f}\")\n",
        "    print(f\"Performance Range:        {max(accuracies) - min(accuracies):.4f}\")\n",
        "\n",
        "else:\n",
        "    print(\"No other model test files found for cross-validation\")\n",
        "\n",
        "print(f\"\\nCross-model evaluation completed!\")\n",
        "print(\"=\"*70)"
      ]
    },
    {
      "cell_type": "code",
      "execution_count": null,
      "id": "a84cf48b",
      "metadata": {
        "id": "a84cf48b"
      },
      "outputs": [],
      "source": []
    },
    {
      "cell_type": "code",
      "execution_count": null,
      "id": "4b797b2e",
      "metadata": {
        "id": "4b797b2e"
      },
      "outputs": [],
      "source": []
    }
  ],
  "metadata": {
    "kernelspec": {
      "display_name": "Python 3",
      "name": "python3"
    },
    "language_info": {
      "codemirror_mode": {
        "name": "ipython",
        "version": 3
      },
      "file_extension": ".py",
      "mimetype": "text/x-python",
      "name": "python",
      "nbconvert_exporter": "python",
      "pygments_lexer": "ipython3",
      "version": "3.10.11"
    },
    "colab": {
      "provenance": [],
      "gpuType": "T4"
    },
    "accelerator": "GPU"
  },
  "nbformat": 4,
  "nbformat_minor": 5
}